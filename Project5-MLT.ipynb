{
 "cells": [
  {
   "cell_type": "code",
   "execution_count": 1,
   "metadata": {
    "collapsed": false
   },
   "outputs": [],
   "source": [
    "#project 5\n",
    "import pandas as pd\n",
    "import os\n",
    "import seaborn as sns\n",
    "#import sqlite\n",
    "import numpy as np\n",
    "import matplotlib.pyplot as plt\n",
    "%matplotlib inline\n",
    "from sklearn.neighbors import KNeighborsClassifier\n",
    "from sklearn.feature_selection import SelectKBest\n",
    "from sklearn.grid_search import GridSearchCV\n",
    "from sklearn.linear_model import LogisticRegression\n",
    "from sklearn.linear_model import Ridge\n",
    "from sklearn.metrics import confusion_matrix, classification_report\n",
    "from sklearn.feature_extraction.text import CountVectorizer\n",
    "from sklearn.cross_validation import train_test_split\n",
    "from sklearn.feature_selection import RFE\n",
    "from sklearn.cross_validation import KFold\n",
    "from sklearn.metrics import confusion_matrix, classification_report\n",
    "from sklearn import metrics\n",
    "from sklearn.metrics import confusion_matrix\n",
    "from sklearn.cross_validation import cross_val_score\n",
    "from sklearn.metrics import roc_curve, auc\n",
    "\n",
    "pd.options.display.max_columns = 50\n",
    "pd.options.display.max_colwidth = 300"
   ]
  },
  {
   "cell_type": "code",
   "execution_count": 2,
   "metadata": {
    "collapsed": false
   },
   "outputs": [
    {
     "data": {
      "text/plain": [
       "u'/Users/marthataylor/Project05-MLT'"
      ]
     },
     "execution_count": 2,
     "metadata": {},
     "output_type": "execute_result"
    }
   ],
   "source": [
    "pwd"
   ]
  },
  {
   "cell_type": "code",
   "execution_count": 3,
   "metadata": {
    "collapsed": false
   },
   "outputs": [],
   "source": [
    "titanic= pd.read_csv('~/titanic.csv')"
   ]
  },
  {
   "cell_type": "markdown",
   "metadata": {},
   "source": [
    "April 1912, the Titanic sank after scraping an iceberg on its maiden journey. A very sad story since many people perished. There were design flaws and there were not enough life boats. If each boat was filled they could only accommodate 1,178 people.\n",
    "\n",
    "\n",
    "891 records This does not represent the total number of people on the Titanic. Passengers = 1317 and with crew = 2224.  more than 1500 died\n",
    "\n",
    "This list contains 891 records\n",
    "\n",
    "Survival 0 1\n",
    "pClass   passenger class\n",
    "\n",
    "name\n",
    "\n",
    "sex\n",
    "age  Age there are only 714\n",
    "sibsp   number of siblings/spouses aboard\n",
    "parch   number of parents/children aboard\n",
    "ticket  ticket number\n",
    "fare    passenger fare\n",
    "cabin   cabin  Cabin assignments  there are only 204\n",
    "embarked  point of embarkation  (C=Cherbourg, Q Queenstown, S Southampton Embarking location = 889\n",
    "\n",
    "There are only 204 cabins\n"
   ]
  },
  {
   "cell_type": "code",
   "execution_count": 4,
   "metadata": {
    "collapsed": false
   },
   "outputs": [
    {
     "name": "stdout",
     "output_type": "stream",
     "text": [
      "For index\n",
      "0\n",
      "count    891.000000\n",
      "mean     445.000000\n",
      "std      257.353842\n",
      "min        0.000000\n",
      "25%      222.500000\n",
      "50%      445.000000\n",
      "75%      667.500000\n",
      "max      890.000000\n",
      "Name: index, dtype: float64\n",
      " \n",
      "For PassengerId\n",
      "0\n",
      "count    891.000000\n",
      "mean     446.000000\n",
      "std      257.353842\n",
      "min        1.000000\n",
      "25%      223.500000\n",
      "50%      446.000000\n",
      "75%      668.500000\n",
      "max      891.000000\n",
      "Name: PassengerId, dtype: float64\n",
      " \n",
      "For Survived\n",
      "0\n",
      "count    891.000000\n",
      "mean       0.383838\n",
      "std        0.486592\n",
      "min        0.000000\n",
      "25%        0.000000\n",
      "50%        0.000000\n",
      "75%        1.000000\n",
      "max        1.000000\n",
      "Name: Survived, dtype: float64\n",
      " \n",
      "For Pclass\n",
      "0\n",
      "count    891.000000\n",
      "mean       2.308642\n",
      "std        0.836071\n",
      "min        1.000000\n",
      "25%        2.000000\n",
      "50%        3.000000\n",
      "75%        3.000000\n",
      "max        3.000000\n",
      "Name: Pclass, dtype: float64\n",
      " \n",
      "For Name\n",
      "0\n",
      "count                           891\n",
      "unique                          891\n",
      "top       Graham, Mr. George Edward\n",
      "freq                              1\n",
      "Name: Name, dtype: object\n",
      " \n",
      "For Sex\n",
      "0\n",
      "count      891\n",
      "unique       2\n",
      "top       male\n",
      "freq       577\n",
      "Name: Sex, dtype: object\n",
      " \n",
      "For Age\n",
      "177\n",
      "count    714.000000\n",
      "mean      29.699118\n",
      "std       14.526497\n",
      "min        0.420000\n",
      "25%             NaN\n",
      "50%             NaN\n",
      "75%             NaN\n",
      "max       80.000000\n",
      "Name: Age, dtype: float64\n",
      " \n",
      "For SibSp\n",
      "0\n",
      "count    891.000000\n",
      "mean       0.523008\n",
      "std        1.102743\n",
      "min        0.000000\n",
      "25%        0.000000\n",
      "50%        0.000000\n",
      "75%        1.000000\n",
      "max        8.000000\n",
      "Name: SibSp, dtype: float64\n",
      " \n",
      "For Parch\n",
      "0\n",
      "count    891.000000\n",
      "mean       0.381594\n",
      "std        0.806057\n",
      "min        0.000000\n",
      "25%        0.000000\n",
      "50%        0.000000\n",
      "75%        0.000000\n",
      "max        6.000000\n",
      "Name: Parch, dtype: float64\n",
      " \n",
      "For Ticket\n",
      "0\n",
      "count          891\n",
      "unique         681\n",
      "top       CA. 2343\n",
      "freq             7\n",
      "Name: Ticket, dtype: object\n",
      " \n",
      "For Fare\n",
      "0\n",
      "count    891.000000\n",
      "mean      32.204208\n",
      "std       49.693429\n",
      "min        0.000000\n",
      "25%        7.910400\n",
      "50%       14.454200\n",
      "75%       31.000000\n",
      "max      512.329200\n",
      "Name: Fare, dtype: float64\n",
      " \n",
      "For Cabin\n",
      "687\n",
      "count             204\n",
      "unique            147\n",
      "top       C23 C25 C27\n",
      "freq                4\n",
      "Name: Cabin, dtype: object\n",
      " \n",
      "For Embarked\n",
      "2\n",
      "count     889\n",
      "unique      3\n",
      "top         S\n",
      "freq      644\n",
      "Name: Embarked, dtype: object\n",
      " \n"
     ]
    },
    {
     "name": "stderr",
     "output_type": "stream",
     "text": [
      "//anaconda/lib/python2.7/site-packages/numpy/lib/function_base.py:3834: RuntimeWarning: Invalid value encountered in percentile\n",
      "  RuntimeWarning)\n"
     ]
    }
   ],
   "source": [
    "#systematically describe  each variable to identify datatype and to see\n",
    "#how many are null\n",
    "tColumms = []\n",
    "i=0\n",
    "for labels in titanic.columns:  \n",
    "    if i >=0:\n",
    "        tColumms.append(labels)\n",
    "        i = i+1\n",
    "    else:\n",
    "        i=i+1\n",
    "\n",
    "for item in tColumms:\n",
    "    print 'For %s' %item\n",
    "    print titanic[item].isnull().sum()\n",
    "    print titanic[item].describe()\n",
    "    print ' '"
   ]
  },
  {
   "cell_type": "code",
   "execution_count": 5,
   "metadata": {
    "collapsed": false
   },
   "outputs": [
    {
     "data": {
      "text/plain": [
       "Index([u'index', u'PassengerId', u'Survived', u'Pclass', u'Name', u'Sex',\n",
       "       u'Age', u'SibSp', u'Parch', u'Ticket', u'Fare', u'Cabin', u'Embarked'],\n",
       "      dtype='object')"
      ]
     },
     "execution_count": 5,
     "metadata": {},
     "output_type": "execute_result"
    }
   ],
   "source": [
    "titanic.columns\n"
   ]
  },
  {
   "cell_type": "markdown",
   "metadata": {},
   "source": [
    "# Create Dummies"
   ]
  },
  {
   "cell_type": "code",
   "execution_count": 6,
   "metadata": {
    "collapsed": false
   },
   "outputs": [],
   "source": [
    "#create dummies and then do exploratiory analysis"
   ]
  },
  {
   "cell_type": "code",
   "execution_count": 7,
   "metadata": {
    "collapsed": true
   },
   "outputs": [],
   "source": [
    "#create dummies for pclass which is the socio economic class of the passengers\n",
    "#it is not whether they purchsed a first second or third class ticket\n",
    "dummiesPclass=pd.get_dummies(titanic['Pclass'])\n",
    "titanic=pd.DataFrame(titanic).join(pd.DataFrame(dummiesPclass))"
   ]
  },
  {
   "cell_type": "code",
   "execution_count": 8,
   "metadata": {
    "collapsed": true
   },
   "outputs": [],
   "source": [
    "titanic.columns=['index', 'PassengerId', 'Survived', 'Pclass',\n",
    "              'Name',  'Sex', 'Age','SibSp','Parch','Ticket', 'Fare',  'Cabin',\n",
    "'Embarked', 'first','second',  'third']"
   ]
  },
  {
   "cell_type": "code",
   "execution_count": 9,
   "metadata": {
    "collapsed": false
   },
   "outputs": [
    {
     "data": {
      "text/plain": [
       "0    1\n",
       "1    0\n",
       "Name: Sex, dtype: int64"
      ]
     },
     "execution_count": 9,
     "metadata": {},
     "output_type": "execute_result"
    }
   ],
   "source": [
    "#categorizing gender (only 2 Male Female)\n",
    "male = titanic['Sex'].apply(lambda x: 1 if x == 'male' else 0)\n",
    "male.head(2)"
   ]
  },
  {
   "cell_type": "code",
   "execution_count": 10,
   "metadata": {
    "collapsed": false
   },
   "outputs": [
    {
     "data": {
      "text/html": [
       "<div>\n",
       "<table border=\"1\" class=\"dataframe\">\n",
       "  <thead>\n",
       "    <tr style=\"text-align: right;\">\n",
       "      <th></th>\n",
       "      <th>embarked_C</th>\n",
       "      <th>embarked_Q</th>\n",
       "    </tr>\n",
       "  </thead>\n",
       "  <tbody>\n",
       "    <tr>\n",
       "      <th>0</th>\n",
       "      <td>0.0</td>\n",
       "      <td>0.0</td>\n",
       "    </tr>\n",
       "  </tbody>\n",
       "</table>\n",
       "</div>"
      ],
      "text/plain": [
       "   embarked_C  embarked_Q\n",
       "0         0.0         0.0"
      ]
     },
     "execution_count": 10,
     "metadata": {},
     "output_type": "execute_result"
    }
   ],
   "source": [
    "#categorizing where the passenger embarked\n",
    "embarkedDummies = pd.get_dummies(titanic['Embarked'], prefix='embarked')\n",
    "embarkedDummies = embarkedDummies[['embarked_C', 'embarked_Q']]\n",
    "embarkedDummies.head(1)"
   ]
  },
  {
   "cell_type": "code",
   "execution_count": 11,
   "metadata": {
    "collapsed": false
   },
   "outputs": [],
   "source": [
    "#joining the main database embarked dummies\n",
    "titanic=titanic.join(embarkedDummies)\n"
   ]
  },
  {
   "cell_type": "code",
   "execution_count": 12,
   "metadata": {
    "collapsed": false
   },
   "outputs": [],
   "source": [
    "#categorizing age by groupings child, adult, older person\n",
    "titanic['Child'] = titanic['Age'].apply(lambda x: 1 if x < 12 else 0)\n",
    "titanic['Older Person'] = titanic['Age'].apply(lambda x: 1 if x > 50 else 0)\n",
    "\n",
    "\n"
   ]
  },
  {
   "cell_type": "code",
   "execution_count": 22,
   "metadata": {
    "collapsed": false
   },
   "outputs": [],
   "source": [
    "titanic['Male']=titanic['Sex'].apply(lambda x: 1 if x == 'male' else 0)"
   ]
  },
  {
   "cell_type": "code",
   "execution_count": 14,
   "metadata": {
    "collapsed": false
   },
   "outputs": [],
   "source": [
    "#creating an if known age column.  Missing age = 0\n",
    "titanic['unknownAge']=titanic['Age']\n",
    "titanic['unknownAge'].fillna('Missing', inplace=True)\n",
    "titanic['unknownAge'] = titanic['unknownAge'].apply(lambda x: 1 if x =='Missing' else 0)"
   ]
  },
  {
   "cell_type": "code",
   "execution_count": 15,
   "metadata": {
    "collapsed": false
   },
   "outputs": [
    {
     "data": {
      "text/html": [
       "<div>\n",
       "<table border=\"1\" class=\"dataframe\">\n",
       "  <thead>\n",
       "    <tr style=\"text-align: right;\">\n",
       "      <th></th>\n",
       "      <th>Age</th>\n",
       "      <th>unknownAge</th>\n",
       "    </tr>\n",
       "  </thead>\n",
       "  <tbody>\n",
       "    <tr>\n",
       "      <th>0</th>\n",
       "      <td>22.0</td>\n",
       "      <td>0</td>\n",
       "    </tr>\n",
       "    <tr>\n",
       "      <th>1</th>\n",
       "      <td>38.0</td>\n",
       "      <td>0</td>\n",
       "    </tr>\n",
       "  </tbody>\n",
       "</table>\n",
       "</div>"
      ],
      "text/plain": [
       "    Age  unknownAge\n",
       "0  22.0           0\n",
       "1  38.0           0"
      ]
     },
     "execution_count": 15,
     "metadata": {},
     "output_type": "execute_result"
    }
   ],
   "source": [
    "titanic[['Age', 'unknownAge']].head(2)"
   ]
  },
  {
   "cell_type": "code",
   "execution_count": 16,
   "metadata": {
    "collapsed": false
   },
   "outputs": [
    {
     "name": "stdout",
     "output_type": "stream",
     "text": [
      "count    714.000000\n",
      "mean      29.699118\n",
      "std       14.526497\n",
      "min        0.420000\n",
      "25%             NaN\n",
      "50%             NaN\n",
      "75%             NaN\n",
      "max       80.000000\n",
      "Name: Age, dtype: float64\n"
     ]
    }
   ],
   "source": [
    "#for the age column, filling in the NaN with the average age\n",
    "print titanic['Age'].describe()\n",
    "ageMean = np.mean(titanic['Age'])\n"
   ]
  },
  {
   "cell_type": "code",
   "execution_count": 17,
   "metadata": {
    "collapsed": false
   },
   "outputs": [
    {
     "data": {
      "text/html": [
       "<div>\n",
       "<table border=\"1\" class=\"dataframe\">\n",
       "  <thead>\n",
       "    <tr style=\"text-align: right;\">\n",
       "      <th></th>\n",
       "      <th>Age</th>\n",
       "      <th>AgeFilledIn</th>\n",
       "    </tr>\n",
       "  </thead>\n",
       "  <tbody>\n",
       "    <tr>\n",
       "      <th>0</th>\n",
       "      <td>22.0</td>\n",
       "      <td>22.000000</td>\n",
       "    </tr>\n",
       "    <tr>\n",
       "      <th>1</th>\n",
       "      <td>38.0</td>\n",
       "      <td>38.000000</td>\n",
       "    </tr>\n",
       "    <tr>\n",
       "      <th>2</th>\n",
       "      <td>26.0</td>\n",
       "      <td>26.000000</td>\n",
       "    </tr>\n",
       "    <tr>\n",
       "      <th>3</th>\n",
       "      <td>35.0</td>\n",
       "      <td>35.000000</td>\n",
       "    </tr>\n",
       "    <tr>\n",
       "      <th>4</th>\n",
       "      <td>35.0</td>\n",
       "      <td>35.000000</td>\n",
       "    </tr>\n",
       "    <tr>\n",
       "      <th>5</th>\n",
       "      <td>NaN</td>\n",
       "      <td>29.699118</td>\n",
       "    </tr>\n",
       "  </tbody>\n",
       "</table>\n",
       "</div>"
      ],
      "text/plain": [
       "    Age  AgeFilledIn\n",
       "0  22.0    22.000000\n",
       "1  38.0    38.000000\n",
       "2  26.0    26.000000\n",
       "3  35.0    35.000000\n",
       "4  35.0    35.000000\n",
       "5   NaN    29.699118"
      ]
     },
     "execution_count": 17,
     "metadata": {},
     "output_type": "execute_result"
    }
   ],
   "source": [
    "#My goal is to keep all but to entries (embarkment) when doing the drop NaN\n",
    "#I am going to insert the mean \n",
    "titanic['AgeFilledIn']=titanic['Age']\n",
    "titanic['AgeFilledIn'].fillna(ageMean, inplace=True)\n",
    "#titanic['AgeFilledIn'] = titanic['AgeFilledIn'].apply(lambda x: ageMean if x =='Missing')\n",
    "titanic[['Age', 'AgeFilledIn']].head(6)"
   ]
  },
  {
   "cell_type": "code",
   "execution_count": 18,
   "metadata": {
    "collapsed": false
   },
   "outputs": [
    {
     "data": {
      "text/html": [
       "<div>\n",
       "<table border=\"1\" class=\"dataframe\">\n",
       "  <thead>\n",
       "    <tr style=\"text-align: right;\">\n",
       "      <th></th>\n",
       "      <th>Cabin</th>\n",
       "      <th>unknownCabin</th>\n",
       "    </tr>\n",
       "  </thead>\n",
       "  <tbody>\n",
       "    <tr>\n",
       "      <th>0</th>\n",
       "      <td>NaN</td>\n",
       "      <td>1</td>\n",
       "    </tr>\n",
       "    <tr>\n",
       "      <th>1</th>\n",
       "      <td>C85</td>\n",
       "      <td>0</td>\n",
       "    </tr>\n",
       "    <tr>\n",
       "      <th>2</th>\n",
       "      <td>NaN</td>\n",
       "      <td>1</td>\n",
       "    </tr>\n",
       "    <tr>\n",
       "      <th>3</th>\n",
       "      <td>C123</td>\n",
       "      <td>0</td>\n",
       "    </tr>\n",
       "    <tr>\n",
       "      <th>4</th>\n",
       "      <td>NaN</td>\n",
       "      <td>1</td>\n",
       "    </tr>\n",
       "    <tr>\n",
       "      <th>5</th>\n",
       "      <td>NaN</td>\n",
       "      <td>1</td>\n",
       "    </tr>\n",
       "    <tr>\n",
       "      <th>6</th>\n",
       "      <td>E46</td>\n",
       "      <td>0</td>\n",
       "    </tr>\n",
       "    <tr>\n",
       "      <th>7</th>\n",
       "      <td>NaN</td>\n",
       "      <td>1</td>\n",
       "    </tr>\n",
       "    <tr>\n",
       "      <th>8</th>\n",
       "      <td>NaN</td>\n",
       "      <td>1</td>\n",
       "    </tr>\n",
       "    <tr>\n",
       "      <th>9</th>\n",
       "      <td>NaN</td>\n",
       "      <td>1</td>\n",
       "    </tr>\n",
       "  </tbody>\n",
       "</table>\n",
       "</div>"
      ],
      "text/plain": [
       "  Cabin  unknownCabin\n",
       "0   NaN             1\n",
       "1   C85             0\n",
       "2   NaN             1\n",
       "3  C123             0\n",
       "4   NaN             1\n",
       "5   NaN             1\n",
       "6   E46             0\n",
       "7   NaN             1\n",
       "8   NaN             1\n",
       "9   NaN             1"
      ]
     },
     "execution_count": 18,
     "metadata": {},
     "output_type": "execute_result"
    }
   ],
   "source": [
    "#creating an unknown cabin category. Perhaps those who did not have a cabin assignment\n",
    "# were not worthy of having one assigned prior to departure\n",
    "titanic['unknownCabin']=titanic['Cabin']\n",
    "titanic['unknownCabin'].fillna('Missing', inplace=True)\n",
    "titanic['unknownCabin'] = titanic['unknownCabin'].apply(lambda x: 1 if x =='Missing' else 0)\n",
    "titanic[['Cabin', 'unknownCabin']].head(10)"
   ]
  },
  {
   "cell_type": "code",
   "execution_count": null,
   "metadata": {
    "collapsed": true
   },
   "outputs": [],
   "source": []
  },
  {
   "cell_type": "markdown",
   "metadata": {},
   "source": [
    "# now starting with playing with variables prior to building models\n",
    "I created df1 a dataframe with only the variables I will be testing.\n",
    "I am going to explore some of the data\n"
   ]
  },
  {
   "cell_type": "code",
   "execution_count": 19,
   "metadata": {
    "collapsed": false
   },
   "outputs": [
    {
     "data": {
      "text/plain": [
       "Index([u'index', u'PassengerId', u'Survived', u'Pclass', u'Name', u'Sex',\n",
       "       u'Age', u'SibSp', u'Parch', u'Ticket', u'Fare', u'Cabin', u'Embarked',\n",
       "       u'first', u'second', u'third', u'embarked_C', u'embarked_Q', u'Child',\n",
       "       u'Older Person', u'unknownAge', u'AgeFilledIn', u'unknownCabin'],\n",
       "      dtype='object')"
      ]
     },
     "execution_count": 19,
     "metadata": {},
     "output_type": "execute_result"
    }
   ],
   "source": [
    "titanic.columns"
   ]
  },
  {
   "cell_type": "markdown",
   "metadata": {},
   "source": [
    "Exploring the relationships prior to starting my models"
   ]
  },
  {
   "cell_type": "code",
   "execution_count": 23,
   "metadata": {
    "collapsed": false
   },
   "outputs": [
    {
     "data": {
      "text/html": [
       "<div>\n",
       "<table border=\"1\" class=\"dataframe\">\n",
       "  <thead>\n",
       "    <tr style=\"text-align: right;\">\n",
       "      <th></th>\n",
       "      <th>Survived</th>\n",
       "      <th>AgeFilledIn</th>\n",
       "      <th>Age</th>\n",
       "      <th>SibSp</th>\n",
       "      <th>Parch</th>\n",
       "      <th>Fare</th>\n",
       "      <th>first</th>\n",
       "      <th>second</th>\n",
       "      <th>third</th>\n",
       "      <th>embarked_C</th>\n",
       "      <th>embarked_Q</th>\n",
       "      <th>Child</th>\n",
       "      <th>Older Person</th>\n",
       "      <th>Male</th>\n",
       "      <th>unknownAge</th>\n",
       "      <th>unknownCabin</th>\n",
       "    </tr>\n",
       "  </thead>\n",
       "  <tbody>\n",
       "    <tr>\n",
       "      <th>0</th>\n",
       "      <td>0</td>\n",
       "      <td>22.000000</td>\n",
       "      <td>22.0</td>\n",
       "      <td>1</td>\n",
       "      <td>0</td>\n",
       "      <td>7.2500</td>\n",
       "      <td>0.0</td>\n",
       "      <td>0.0</td>\n",
       "      <td>1.0</td>\n",
       "      <td>0.0</td>\n",
       "      <td>0.0</td>\n",
       "      <td>0</td>\n",
       "      <td>0</td>\n",
       "      <td>1</td>\n",
       "      <td>0</td>\n",
       "      <td>1</td>\n",
       "    </tr>\n",
       "    <tr>\n",
       "      <th>1</th>\n",
       "      <td>1</td>\n",
       "      <td>38.000000</td>\n",
       "      <td>38.0</td>\n",
       "      <td>1</td>\n",
       "      <td>0</td>\n",
       "      <td>71.2833</td>\n",
       "      <td>1.0</td>\n",
       "      <td>0.0</td>\n",
       "      <td>0.0</td>\n",
       "      <td>1.0</td>\n",
       "      <td>0.0</td>\n",
       "      <td>0</td>\n",
       "      <td>0</td>\n",
       "      <td>0</td>\n",
       "      <td>0</td>\n",
       "      <td>0</td>\n",
       "    </tr>\n",
       "    <tr>\n",
       "      <th>2</th>\n",
       "      <td>1</td>\n",
       "      <td>26.000000</td>\n",
       "      <td>26.0</td>\n",
       "      <td>0</td>\n",
       "      <td>0</td>\n",
       "      <td>7.9250</td>\n",
       "      <td>0.0</td>\n",
       "      <td>0.0</td>\n",
       "      <td>1.0</td>\n",
       "      <td>0.0</td>\n",
       "      <td>0.0</td>\n",
       "      <td>0</td>\n",
       "      <td>0</td>\n",
       "      <td>0</td>\n",
       "      <td>0</td>\n",
       "      <td>1</td>\n",
       "    </tr>\n",
       "    <tr>\n",
       "      <th>3</th>\n",
       "      <td>1</td>\n",
       "      <td>35.000000</td>\n",
       "      <td>35.0</td>\n",
       "      <td>1</td>\n",
       "      <td>0</td>\n",
       "      <td>53.1000</td>\n",
       "      <td>1.0</td>\n",
       "      <td>0.0</td>\n",
       "      <td>0.0</td>\n",
       "      <td>0.0</td>\n",
       "      <td>0.0</td>\n",
       "      <td>0</td>\n",
       "      <td>0</td>\n",
       "      <td>0</td>\n",
       "      <td>0</td>\n",
       "      <td>0</td>\n",
       "    </tr>\n",
       "    <tr>\n",
       "      <th>4</th>\n",
       "      <td>0</td>\n",
       "      <td>35.000000</td>\n",
       "      <td>35.0</td>\n",
       "      <td>0</td>\n",
       "      <td>0</td>\n",
       "      <td>8.0500</td>\n",
       "      <td>0.0</td>\n",
       "      <td>0.0</td>\n",
       "      <td>1.0</td>\n",
       "      <td>0.0</td>\n",
       "      <td>0.0</td>\n",
       "      <td>0</td>\n",
       "      <td>0</td>\n",
       "      <td>1</td>\n",
       "      <td>0</td>\n",
       "      <td>1</td>\n",
       "    </tr>\n",
       "    <tr>\n",
       "      <th>5</th>\n",
       "      <td>0</td>\n",
       "      <td>29.699118</td>\n",
       "      <td>NaN</td>\n",
       "      <td>0</td>\n",
       "      <td>0</td>\n",
       "      <td>8.4583</td>\n",
       "      <td>0.0</td>\n",
       "      <td>0.0</td>\n",
       "      <td>1.0</td>\n",
       "      <td>0.0</td>\n",
       "      <td>1.0</td>\n",
       "      <td>0</td>\n",
       "      <td>0</td>\n",
       "      <td>1</td>\n",
       "      <td>1</td>\n",
       "      <td>1</td>\n",
       "    </tr>\n",
       "    <tr>\n",
       "      <th>6</th>\n",
       "      <td>0</td>\n",
       "      <td>54.000000</td>\n",
       "      <td>54.0</td>\n",
       "      <td>0</td>\n",
       "      <td>0</td>\n",
       "      <td>51.8625</td>\n",
       "      <td>1.0</td>\n",
       "      <td>0.0</td>\n",
       "      <td>0.0</td>\n",
       "      <td>0.0</td>\n",
       "      <td>0.0</td>\n",
       "      <td>0</td>\n",
       "      <td>1</td>\n",
       "      <td>1</td>\n",
       "      <td>0</td>\n",
       "      <td>0</td>\n",
       "    </tr>\n",
       "    <tr>\n",
       "      <th>7</th>\n",
       "      <td>0</td>\n",
       "      <td>2.000000</td>\n",
       "      <td>2.0</td>\n",
       "      <td>3</td>\n",
       "      <td>1</td>\n",
       "      <td>21.0750</td>\n",
       "      <td>0.0</td>\n",
       "      <td>0.0</td>\n",
       "      <td>1.0</td>\n",
       "      <td>0.0</td>\n",
       "      <td>0.0</td>\n",
       "      <td>1</td>\n",
       "      <td>0</td>\n",
       "      <td>1</td>\n",
       "      <td>0</td>\n",
       "      <td>1</td>\n",
       "    </tr>\n",
       "    <tr>\n",
       "      <th>8</th>\n",
       "      <td>1</td>\n",
       "      <td>27.000000</td>\n",
       "      <td>27.0</td>\n",
       "      <td>0</td>\n",
       "      <td>2</td>\n",
       "      <td>11.1333</td>\n",
       "      <td>0.0</td>\n",
       "      <td>0.0</td>\n",
       "      <td>1.0</td>\n",
       "      <td>0.0</td>\n",
       "      <td>0.0</td>\n",
       "      <td>0</td>\n",
       "      <td>0</td>\n",
       "      <td>0</td>\n",
       "      <td>0</td>\n",
       "      <td>1</td>\n",
       "    </tr>\n",
       "    <tr>\n",
       "      <th>9</th>\n",
       "      <td>1</td>\n",
       "      <td>14.000000</td>\n",
       "      <td>14.0</td>\n",
       "      <td>1</td>\n",
       "      <td>0</td>\n",
       "      <td>30.0708</td>\n",
       "      <td>0.0</td>\n",
       "      <td>1.0</td>\n",
       "      <td>0.0</td>\n",
       "      <td>1.0</td>\n",
       "      <td>0.0</td>\n",
       "      <td>0</td>\n",
       "      <td>0</td>\n",
       "      <td>0</td>\n",
       "      <td>0</td>\n",
       "      <td>1</td>\n",
       "    </tr>\n",
       "  </tbody>\n",
       "</table>\n",
       "</div>"
      ],
      "text/plain": [
       "   Survived  AgeFilledIn   Age  SibSp  Parch     Fare  first  second  third  \\\n",
       "0         0    22.000000  22.0      1      0   7.2500    0.0     0.0    1.0   \n",
       "1         1    38.000000  38.0      1      0  71.2833    1.0     0.0    0.0   \n",
       "2         1    26.000000  26.0      0      0   7.9250    0.0     0.0    1.0   \n",
       "3         1    35.000000  35.0      1      0  53.1000    1.0     0.0    0.0   \n",
       "4         0    35.000000  35.0      0      0   8.0500    0.0     0.0    1.0   \n",
       "5         0    29.699118   NaN      0      0   8.4583    0.0     0.0    1.0   \n",
       "6         0    54.000000  54.0      0      0  51.8625    1.0     0.0    0.0   \n",
       "7         0     2.000000   2.0      3      1  21.0750    0.0     0.0    1.0   \n",
       "8         1    27.000000  27.0      0      2  11.1333    0.0     0.0    1.0   \n",
       "9         1    14.000000  14.0      1      0  30.0708    0.0     1.0    0.0   \n",
       "\n",
       "   embarked_C  embarked_Q  Child  Older Person  Male  unknownAge  unknownCabin  \n",
       "0         0.0         0.0      0             0     1           0             1  \n",
       "1         1.0         0.0      0             0     0           0             0  \n",
       "2         0.0         0.0      0             0     0           0             1  \n",
       "3         0.0         0.0      0             0     0           0             0  \n",
       "4         0.0         0.0      0             0     1           0             1  \n",
       "5         0.0         1.0      0             0     1           1             1  \n",
       "6         0.0         0.0      0             1     1           0             0  \n",
       "7         0.0         0.0      1             0     1           0             1  \n",
       "8         0.0         0.0      0             0     0           0             1  \n",
       "9         1.0         0.0      0             0     0           0             1  "
      ]
     },
     "execution_count": 23,
     "metadata": {},
     "output_type": "execute_result"
    }
   ],
   "source": [
    "df1= titanic[['Survived','AgeFilledIn','Age', 'SibSp', 'Parch','Fare','first', 'second', \n",
    "              'third', 'embarked_C', \n",
    "              'embarked_Q', 'Child', 'Older Person', 'Male', 'unknownAge',\n",
    "           'unknownCabin']]\n",
    "df1.head(10)"
   ]
  },
  {
   "cell_type": "code",
   "execution_count": 24,
   "metadata": {
    "collapsed": false
   },
   "outputs": [
    {
     "data": {
      "text/html": [
       "<div>\n",
       "<table border=\"1\" class=\"dataframe\">\n",
       "  <thead>\n",
       "    <tr style=\"text-align: right;\">\n",
       "      <th></th>\n",
       "      <th>Survived</th>\n",
       "      <th>AgeFilledIn</th>\n",
       "      <th>Age</th>\n",
       "      <th>SibSp</th>\n",
       "      <th>Parch</th>\n",
       "      <th>Fare</th>\n",
       "      <th>first</th>\n",
       "      <th>second</th>\n",
       "      <th>third</th>\n",
       "      <th>embarked_C</th>\n",
       "      <th>embarked_Q</th>\n",
       "      <th>Child</th>\n",
       "      <th>Older Person</th>\n",
       "      <th>Male</th>\n",
       "      <th>unknownAge</th>\n",
       "      <th>unknownCabin</th>\n",
       "    </tr>\n",
       "  </thead>\n",
       "  <tbody>\n",
       "    <tr>\n",
       "      <th>Survived</th>\n",
       "      <td>1.000000</td>\n",
       "      <td>-6.980852e-02</td>\n",
       "      <td>-0.077221</td>\n",
       "      <td>-0.035322</td>\n",
       "      <td>0.081629</td>\n",
       "      <td>0.257307</td>\n",
       "      <td>0.285904</td>\n",
       "      <td>0.093349</td>\n",
       "      <td>-0.322308</td>\n",
       "      <td>0.168240</td>\n",
       "      <td>0.003650</td>\n",
       "      <td>0.112119</td>\n",
       "      <td>-0.022932</td>\n",
       "      <td>-0.543351</td>\n",
       "      <td>-9.219652e-02</td>\n",
       "      <td>-0.316912</td>\n",
       "    </tr>\n",
       "    <tr>\n",
       "      <th>AgeFilledIn</th>\n",
       "      <td>-0.069809</td>\n",
       "      <td>1.000000e+00</td>\n",
       "      <td>1.000000</td>\n",
       "      <td>-0.232625</td>\n",
       "      <td>-0.179191</td>\n",
       "      <td>0.091566</td>\n",
       "      <td>0.319916</td>\n",
       "      <td>0.006589</td>\n",
       "      <td>-0.281004</td>\n",
       "      <td>0.032024</td>\n",
       "      <td>-0.013855</td>\n",
       "      <td>-0.553774</td>\n",
       "      <td>0.621244</td>\n",
       "      <td>0.084153</td>\n",
       "      <td>-1.465772e-16</td>\n",
       "      <td>-0.233123</td>\n",
       "    </tr>\n",
       "    <tr>\n",
       "      <th>Age</th>\n",
       "      <td>-0.077221</td>\n",
       "      <td>1.000000e+00</td>\n",
       "      <td>1.000000</td>\n",
       "      <td>-0.308247</td>\n",
       "      <td>-0.189119</td>\n",
       "      <td>0.096067</td>\n",
       "      <td>0.348941</td>\n",
       "      <td>0.006954</td>\n",
       "      <td>-0.312271</td>\n",
       "      <td>0.036261</td>\n",
       "      <td>-0.022405</td>\n",
       "      <td>-0.559534</td>\n",
       "      <td>0.627290</td>\n",
       "      <td>0.093254</td>\n",
       "      <td>NaN</td>\n",
       "      <td>-0.249732</td>\n",
       "    </tr>\n",
       "    <tr>\n",
       "      <th>SibSp</th>\n",
       "      <td>-0.035322</td>\n",
       "      <td>-2.326246e-01</td>\n",
       "      <td>-0.308247</td>\n",
       "      <td>1.000000</td>\n",
       "      <td>0.414838</td>\n",
       "      <td>0.159651</td>\n",
       "      <td>-0.054582</td>\n",
       "      <td>-0.055932</td>\n",
       "      <td>0.092548</td>\n",
       "      <td>-0.059528</td>\n",
       "      <td>-0.026354</td>\n",
       "      <td>0.354531</td>\n",
       "      <td>-0.068910</td>\n",
       "      <td>-0.114631</td>\n",
       "      <td>1.895757e-02</td>\n",
       "      <td>0.040460</td>\n",
       "    </tr>\n",
       "    <tr>\n",
       "      <th>Parch</th>\n",
       "      <td>0.081629</td>\n",
       "      <td>-1.791909e-01</td>\n",
       "      <td>-0.189119</td>\n",
       "      <td>0.414838</td>\n",
       "      <td>1.000000</td>\n",
       "      <td>0.216225</td>\n",
       "      <td>-0.017633</td>\n",
       "      <td>-0.000734</td>\n",
       "      <td>0.015790</td>\n",
       "      <td>-0.011069</td>\n",
       "      <td>-0.081228</td>\n",
       "      <td>0.372819</td>\n",
       "      <td>-0.029255</td>\n",
       "      <td>-0.245489</td>\n",
       "      <td>-1.241038e-01</td>\n",
       "      <td>-0.036987</td>\n",
       "    </tr>\n",
       "    <tr>\n",
       "      <th>Fare</th>\n",
       "      <td>0.257307</td>\n",
       "      <td>9.156609e-02</td>\n",
       "      <td>0.096067</td>\n",
       "      <td>0.159651</td>\n",
       "      <td>0.216225</td>\n",
       "      <td>1.000000</td>\n",
       "      <td>0.591711</td>\n",
       "      <td>-0.118557</td>\n",
       "      <td>-0.413333</td>\n",
       "      <td>0.269335</td>\n",
       "      <td>-0.117216</td>\n",
       "      <td>-0.002138</td>\n",
       "      <td>0.063857</td>\n",
       "      <td>-0.182333</td>\n",
       "      <td>-1.007071e-01</td>\n",
       "      <td>-0.482075</td>\n",
       "    </tr>\n",
       "    <tr>\n",
       "      <th>first</th>\n",
       "      <td>0.285904</td>\n",
       "      <td>3.199164e-01</td>\n",
       "      <td>0.348941</td>\n",
       "      <td>-0.054582</td>\n",
       "      <td>-0.017633</td>\n",
       "      <td>0.591711</td>\n",
       "      <td>1.000000</td>\n",
       "      <td>-0.288585</td>\n",
       "      <td>-0.626738</td>\n",
       "      <td>0.296423</td>\n",
       "      <td>-0.155342</td>\n",
       "      <td>-0.123148</td>\n",
       "      <td>0.238201</td>\n",
       "      <td>-0.098013</td>\n",
       "      <td>-8.473423e-02</td>\n",
       "      <td>-0.788773</td>\n",
       "    </tr>\n",
       "    <tr>\n",
       "      <th>second</th>\n",
       "      <td>0.093349</td>\n",
       "      <td>6.589145e-03</td>\n",
       "      <td>0.006954</td>\n",
       "      <td>-0.055932</td>\n",
       "      <td>-0.000734</td>\n",
       "      <td>-0.118557</td>\n",
       "      <td>-0.288585</td>\n",
       "      <td>1.000000</td>\n",
       "      <td>-0.565210</td>\n",
       "      <td>-0.125416</td>\n",
       "      <td>-0.127301</td>\n",
       "      <td>0.030882</td>\n",
       "      <td>0.019150</td>\n",
       "      <td>-0.064746</td>\n",
       "      <td>-1.775626e-01</td>\n",
       "      <td>0.172413</td>\n",
       "    </tr>\n",
       "    <tr>\n",
       "      <th>third</th>\n",
       "      <td>-0.322308</td>\n",
       "      <td>-2.810040e-01</td>\n",
       "      <td>-0.312271</td>\n",
       "      <td>0.092548</td>\n",
       "      <td>0.015790</td>\n",
       "      <td>-0.413333</td>\n",
       "      <td>-0.626738</td>\n",
       "      <td>-0.565210</td>\n",
       "      <td>1.000000</td>\n",
       "      <td>-0.153329</td>\n",
       "      <td>0.237449</td>\n",
       "      <td>0.080971</td>\n",
       "      <td>-0.220820</td>\n",
       "      <td>0.137143</td>\n",
       "      <td>2.175179e-01</td>\n",
       "      <td>0.539291</td>\n",
       "    </tr>\n",
       "    <tr>\n",
       "      <th>embarked_C</th>\n",
       "      <td>0.168240</td>\n",
       "      <td>3.202442e-02</td>\n",
       "      <td>0.036261</td>\n",
       "      <td>-0.059528</td>\n",
       "      <td>-0.011069</td>\n",
       "      <td>0.269335</td>\n",
       "      <td>0.296423</td>\n",
       "      <td>-0.125416</td>\n",
       "      <td>-0.153329</td>\n",
       "      <td>1.000000</td>\n",
       "      <td>-0.148258</td>\n",
       "      <td>-0.030492</td>\n",
       "      <td>0.032589</td>\n",
       "      <td>-0.082853</td>\n",
       "      <td>3.326967e-02</td>\n",
       "      <td>-0.208528</td>\n",
       "    </tr>\n",
       "    <tr>\n",
       "      <th>embarked_Q</th>\n",
       "      <td>0.003650</td>\n",
       "      <td>-1.385524e-02</td>\n",
       "      <td>-0.022405</td>\n",
       "      <td>-0.026354</td>\n",
       "      <td>-0.081228</td>\n",
       "      <td>-0.117216</td>\n",
       "      <td>-0.155342</td>\n",
       "      <td>-0.127301</td>\n",
       "      <td>0.237449</td>\n",
       "      <td>-0.148258</td>\n",
       "      <td>1.000000</td>\n",
       "      <td>-0.028231</td>\n",
       "      <td>-0.039151</td>\n",
       "      <td>-0.074115</td>\n",
       "      <td>3.374132e-01</td>\n",
       "      <td>0.129572</td>\n",
       "    </tr>\n",
       "    <tr>\n",
       "      <th>Child</th>\n",
       "      <td>0.112119</td>\n",
       "      <td>-5.537743e-01</td>\n",
       "      <td>-0.559534</td>\n",
       "      <td>0.354531</td>\n",
       "      <td>0.372819</td>\n",
       "      <td>-0.002138</td>\n",
       "      <td>-0.123148</td>\n",
       "      <td>0.030882</td>\n",
       "      <td>0.080971</td>\n",
       "      <td>-0.030492</td>\n",
       "      <td>-0.028231</td>\n",
       "      <td>1.000000</td>\n",
       "      <td>-0.079963</td>\n",
       "      <td>-0.071106</td>\n",
       "      <td>-1.431173e-01</td>\n",
       "      <td>0.045968</td>\n",
       "    </tr>\n",
       "    <tr>\n",
       "      <th>Older Person</th>\n",
       "      <td>-0.022932</td>\n",
       "      <td>6.212442e-01</td>\n",
       "      <td>0.627290</td>\n",
       "      <td>-0.068910</td>\n",
       "      <td>-0.029255</td>\n",
       "      <td>0.063857</td>\n",
       "      <td>0.238201</td>\n",
       "      <td>0.019150</td>\n",
       "      <td>-0.220820</td>\n",
       "      <td>0.032589</td>\n",
       "      <td>-0.039151</td>\n",
       "      <td>-0.079963</td>\n",
       "      <td>1.000000</td>\n",
       "      <td>0.050538</td>\n",
       "      <td>-1.385080e-01</td>\n",
       "      <td>-0.189802</td>\n",
       "    </tr>\n",
       "    <tr>\n",
       "      <th>Male</th>\n",
       "      <td>-0.543351</td>\n",
       "      <td>8.415344e-02</td>\n",
       "      <td>0.093254</td>\n",
       "      <td>-0.114631</td>\n",
       "      <td>-0.245489</td>\n",
       "      <td>-0.182333</td>\n",
       "      <td>-0.098013</td>\n",
       "      <td>-0.064746</td>\n",
       "      <td>0.137143</td>\n",
       "      <td>-0.082853</td>\n",
       "      <td>-0.074115</td>\n",
       "      <td>-0.071106</td>\n",
       "      <td>0.050538</td>\n",
       "      <td>1.000000</td>\n",
       "      <td>5.521512e-02</td>\n",
       "      <td>0.140391</td>\n",
       "    </tr>\n",
       "    <tr>\n",
       "      <th>unknownAge</th>\n",
       "      <td>-0.092197</td>\n",
       "      <td>-1.465772e-16</td>\n",
       "      <td>NaN</td>\n",
       "      <td>0.018958</td>\n",
       "      <td>-0.124104</td>\n",
       "      <td>-0.100707</td>\n",
       "      <td>-0.084734</td>\n",
       "      <td>-0.177563</td>\n",
       "      <td>0.217518</td>\n",
       "      <td>0.033270</td>\n",
       "      <td>0.337413</td>\n",
       "      <td>-0.143117</td>\n",
       "      <td>-0.138508</td>\n",
       "      <td>0.055215</td>\n",
       "      <td>1.000000e+00</td>\n",
       "      <td>0.144111</td>\n",
       "    </tr>\n",
       "    <tr>\n",
       "      <th>unknownCabin</th>\n",
       "      <td>-0.316912</td>\n",
       "      <td>-2.331227e-01</td>\n",
       "      <td>-0.249732</td>\n",
       "      <td>0.040460</td>\n",
       "      <td>-0.036987</td>\n",
       "      <td>-0.482075</td>\n",
       "      <td>-0.788773</td>\n",
       "      <td>0.172413</td>\n",
       "      <td>0.539291</td>\n",
       "      <td>-0.208528</td>\n",
       "      <td>0.129572</td>\n",
       "      <td>0.045968</td>\n",
       "      <td>-0.189802</td>\n",
       "      <td>0.140391</td>\n",
       "      <td>1.441109e-01</td>\n",
       "      <td>1.000000</td>\n",
       "    </tr>\n",
       "  </tbody>\n",
       "</table>\n",
       "</div>"
      ],
      "text/plain": [
       "              Survived   AgeFilledIn       Age     SibSp     Parch      Fare  \\\n",
       "Survived      1.000000 -6.980852e-02 -0.077221 -0.035322  0.081629  0.257307   \n",
       "AgeFilledIn  -0.069809  1.000000e+00  1.000000 -0.232625 -0.179191  0.091566   \n",
       "Age          -0.077221  1.000000e+00  1.000000 -0.308247 -0.189119  0.096067   \n",
       "SibSp        -0.035322 -2.326246e-01 -0.308247  1.000000  0.414838  0.159651   \n",
       "Parch         0.081629 -1.791909e-01 -0.189119  0.414838  1.000000  0.216225   \n",
       "Fare          0.257307  9.156609e-02  0.096067  0.159651  0.216225  1.000000   \n",
       "first         0.285904  3.199164e-01  0.348941 -0.054582 -0.017633  0.591711   \n",
       "second        0.093349  6.589145e-03  0.006954 -0.055932 -0.000734 -0.118557   \n",
       "third        -0.322308 -2.810040e-01 -0.312271  0.092548  0.015790 -0.413333   \n",
       "embarked_C    0.168240  3.202442e-02  0.036261 -0.059528 -0.011069  0.269335   \n",
       "embarked_Q    0.003650 -1.385524e-02 -0.022405 -0.026354 -0.081228 -0.117216   \n",
       "Child         0.112119 -5.537743e-01 -0.559534  0.354531  0.372819 -0.002138   \n",
       "Older Person -0.022932  6.212442e-01  0.627290 -0.068910 -0.029255  0.063857   \n",
       "Male         -0.543351  8.415344e-02  0.093254 -0.114631 -0.245489 -0.182333   \n",
       "unknownAge   -0.092197 -1.465772e-16       NaN  0.018958 -0.124104 -0.100707   \n",
       "unknownCabin -0.316912 -2.331227e-01 -0.249732  0.040460 -0.036987 -0.482075   \n",
       "\n",
       "                 first    second     third  embarked_C  embarked_Q     Child  \\\n",
       "Survived      0.285904  0.093349 -0.322308    0.168240    0.003650  0.112119   \n",
       "AgeFilledIn   0.319916  0.006589 -0.281004    0.032024   -0.013855 -0.553774   \n",
       "Age           0.348941  0.006954 -0.312271    0.036261   -0.022405 -0.559534   \n",
       "SibSp        -0.054582 -0.055932  0.092548   -0.059528   -0.026354  0.354531   \n",
       "Parch        -0.017633 -0.000734  0.015790   -0.011069   -0.081228  0.372819   \n",
       "Fare          0.591711 -0.118557 -0.413333    0.269335   -0.117216 -0.002138   \n",
       "first         1.000000 -0.288585 -0.626738    0.296423   -0.155342 -0.123148   \n",
       "second       -0.288585  1.000000 -0.565210   -0.125416   -0.127301  0.030882   \n",
       "third        -0.626738 -0.565210  1.000000   -0.153329    0.237449  0.080971   \n",
       "embarked_C    0.296423 -0.125416 -0.153329    1.000000   -0.148258 -0.030492   \n",
       "embarked_Q   -0.155342 -0.127301  0.237449   -0.148258    1.000000 -0.028231   \n",
       "Child        -0.123148  0.030882  0.080971   -0.030492   -0.028231  1.000000   \n",
       "Older Person  0.238201  0.019150 -0.220820    0.032589   -0.039151 -0.079963   \n",
       "Male         -0.098013 -0.064746  0.137143   -0.082853   -0.074115 -0.071106   \n",
       "unknownAge   -0.084734 -0.177563  0.217518    0.033270    0.337413 -0.143117   \n",
       "unknownCabin -0.788773  0.172413  0.539291   -0.208528    0.129572  0.045968   \n",
       "\n",
       "              Older Person      Male    unknownAge  unknownCabin  \n",
       "Survived         -0.022932 -0.543351 -9.219652e-02     -0.316912  \n",
       "AgeFilledIn       0.621244  0.084153 -1.465772e-16     -0.233123  \n",
       "Age               0.627290  0.093254           NaN     -0.249732  \n",
       "SibSp            -0.068910 -0.114631  1.895757e-02      0.040460  \n",
       "Parch            -0.029255 -0.245489 -1.241038e-01     -0.036987  \n",
       "Fare              0.063857 -0.182333 -1.007071e-01     -0.482075  \n",
       "first             0.238201 -0.098013 -8.473423e-02     -0.788773  \n",
       "second            0.019150 -0.064746 -1.775626e-01      0.172413  \n",
       "third            -0.220820  0.137143  2.175179e-01      0.539291  \n",
       "embarked_C        0.032589 -0.082853  3.326967e-02     -0.208528  \n",
       "embarked_Q       -0.039151 -0.074115  3.374132e-01      0.129572  \n",
       "Child            -0.079963 -0.071106 -1.431173e-01      0.045968  \n",
       "Older Person      1.000000  0.050538 -1.385080e-01     -0.189802  \n",
       "Male              0.050538  1.000000  5.521512e-02      0.140391  \n",
       "unknownAge       -0.138508  0.055215  1.000000e+00      0.144111  \n",
       "unknownCabin     -0.189802  0.140391  1.441109e-01      1.000000  "
      ]
     },
     "execution_count": 24,
     "metadata": {},
     "output_type": "execute_result"
    }
   ],
   "source": [
    "#correlation matrix\n",
    "corr=df1.corr()\n",
    "corr"
   ]
  },
  {
   "cell_type": "code",
   "execution_count": 25,
   "metadata": {
    "collapsed": false
   },
   "outputs": [
    {
     "data": {
      "text/plain": [
       "<matplotlib.axes._subplots.AxesSubplot at 0x11799f490>"
      ]
     },
     "execution_count": 25,
     "metadata": {},
     "output_type": "execute_result"
    },
    {
     "data": {
      "image/png": "[encoded data removed]",
      "text/plain": [
       "<matplotlib.figure.Figure at 0x117d46e90>"
      ]
     },
     "metadata": {},
     "output_type": "display_data"
    }
   ],
   "source": [
    "#created heat map to get visual of relationships\n",
    "sns.heatmap(corr, annot=True)"
   ]
  },
  {
   "cell_type": "code",
   "execution_count": 26,
   "metadata": {
    "collapsed": false
   },
   "outputs": [
    {
     "name": "stdout",
     "output_type": "stream",
     "text": [
      "Sex\n",
      "female    44.479818\n",
      "male      25.523893\n",
      "Name: Fare, dtype: float64\n"
     ]
    }
   ],
   "source": [
    "#using the original table\n",
    "print titanic.pivot_table(index='Sex',values='Fare',aggfunc=np.mean)"
   ]
  },
  {
   "cell_type": "code",
   "execution_count": 27,
   "metadata": {
    "collapsed": false
   },
   "outputs": [
    {
     "data": {
      "text/html": [
       "<div>\n",
       "<table border=\"1\" class=\"dataframe\">\n",
       "  <thead>\n",
       "    <tr style=\"text-align: right;\">\n",
       "      <th></th>\n",
       "      <th>Pclass</th>\n",
       "    </tr>\n",
       "    <tr>\n",
       "      <th>Embarked</th>\n",
       "      <th></th>\n",
       "    </tr>\n",
       "  </thead>\n",
       "  <tbody>\n",
       "    <tr>\n",
       "      <th>C</th>\n",
       "      <td>168</td>\n",
       "    </tr>\n",
       "    <tr>\n",
       "      <th>Q</th>\n",
       "      <td>77</td>\n",
       "    </tr>\n",
       "    <tr>\n",
       "      <th>S</th>\n",
       "      <td>644</td>\n",
       "    </tr>\n",
       "  </tbody>\n",
       "</table>\n",
       "</div>"
      ],
      "text/plain": [
       "          Pclass\n",
       "Embarked        \n",
       "C            168\n",
       "Q             77\n",
       "S            644"
      ]
     },
     "execution_count": 27,
     "metadata": {},
     "output_type": "execute_result"
    }
   ],
   "source": [
    "titanic.pivot_table( index='Embarked', values=[\"Pclass\"],aggfunc=len)"
   ]
  },
  {
   "cell_type": "code",
   "execution_count": 28,
   "metadata": {
    "collapsed": false
   },
   "outputs": [
    {
     "data": {
      "text/html": [
       "<div>\n",
       "<table border=\"1\" class=\"dataframe\">\n",
       "  <thead>\n",
       "    <tr style=\"text-align: right;\">\n",
       "      <th></th>\n",
       "      <th>Pclass</th>\n",
       "      <th>PassengerId</th>\n",
       "    </tr>\n",
       "  </thead>\n",
       "  <tbody>\n",
       "    <tr>\n",
       "      <th>0</th>\n",
       "      <td>1</td>\n",
       "      <td>216</td>\n",
       "    </tr>\n",
       "    <tr>\n",
       "      <th>1</th>\n",
       "      <td>2</td>\n",
       "      <td>184</td>\n",
       "    </tr>\n",
       "    <tr>\n",
       "      <th>2</th>\n",
       "      <td>3</td>\n",
       "      <td>491</td>\n",
       "    </tr>\n",
       "  </tbody>\n",
       "</table>\n",
       "</div>"
      ],
      "text/plain": [
       "   Pclass  PassengerId\n",
       "0       1          216\n",
       "1       2          184\n",
       "2       3          491"
      ]
     },
     "execution_count": 28,
     "metadata": {},
     "output_type": "execute_result"
    }
   ],
   "source": [
    "byClasscount=pd.pivot_table(titanic, index='Pclass', values = ['PassengerId'],aggfunc=len)\n",
    "byClasscount.reset_index(inplace = True)\n",
    "byClasscount\n",
    "#byClasscount=byClasscount.set_index('Pclass', inplace=True)"
   ]
  },
  {
   "cell_type": "code",
   "execution_count": 29,
   "metadata": {
    "collapsed": false
   },
   "outputs": [
    {
     "data": {
      "text/html": [
       "<div>\n",
       "<table border=\"1\" class=\"dataframe\">\n",
       "  <thead>\n",
       "    <tr style=\"text-align: right;\">\n",
       "      <th></th>\n",
       "      <th>index</th>\n",
       "      <th>PassengerId</th>\n",
       "      <th>Survived</th>\n",
       "      <th>Pclass</th>\n",
       "      <th>Name</th>\n",
       "      <th>Sex</th>\n",
       "      <th>Age</th>\n",
       "      <th>SibSp</th>\n",
       "      <th>Parch</th>\n",
       "      <th>Ticket</th>\n",
       "      <th>Fare</th>\n",
       "      <th>Cabin</th>\n",
       "      <th>Embarked</th>\n",
       "      <th>first</th>\n",
       "      <th>second</th>\n",
       "      <th>third</th>\n",
       "      <th>embarked_C</th>\n",
       "      <th>embarked_Q</th>\n",
       "      <th>Child</th>\n",
       "      <th>Older Person</th>\n",
       "      <th>unknownAge</th>\n",
       "      <th>AgeFilledIn</th>\n",
       "      <th>unknownCabin</th>\n",
       "      <th>Male</th>\n",
       "    </tr>\n",
       "  </thead>\n",
       "  <tbody>\n",
       "    <tr>\n",
       "      <th>1</th>\n",
       "      <td>1</td>\n",
       "      <td>2</td>\n",
       "      <td>1</td>\n",
       "      <td>1</td>\n",
       "      <td>Cumings, Mrs. John Bradley (Florence Briggs Thayer)</td>\n",
       "      <td>female</td>\n",
       "      <td>38.0</td>\n",
       "      <td>1</td>\n",
       "      <td>0</td>\n",
       "      <td>PC 17599</td>\n",
       "      <td>71.2833</td>\n",
       "      <td>C85</td>\n",
       "      <td>C</td>\n",
       "      <td>1.0</td>\n",
       "      <td>0.0</td>\n",
       "      <td>0.0</td>\n",
       "      <td>1.0</td>\n",
       "      <td>0.0</td>\n",
       "      <td>0</td>\n",
       "      <td>0</td>\n",
       "      <td>0</td>\n",
       "      <td>38.0</td>\n",
       "      <td>0</td>\n",
       "      <td>0</td>\n",
       "    </tr>\n",
       "  </tbody>\n",
       "</table>\n",
       "</div>"
      ],
      "text/plain": [
       "   index  PassengerId  Survived  Pclass  \\\n",
       "1      1            2         1       1   \n",
       "\n",
       "                                                  Name     Sex   Age  SibSp  \\\n",
       "1  Cumings, Mrs. John Bradley (Florence Briggs Thayer)  female  38.0      1   \n",
       "\n",
       "   Parch    Ticket     Fare Cabin Embarked  first  second  third  embarked_C  \\\n",
       "1      0  PC 17599  71.2833   C85        C    1.0     0.0    0.0         1.0   \n",
       "\n",
       "   embarked_Q  Child  Older Person  unknownAge  AgeFilledIn  unknownCabin  \\\n",
       "1         0.0      0             0           0         38.0             0   \n",
       "\n",
       "   Male  \n",
       "1     0  "
      ]
     },
     "execution_count": 29,
     "metadata": {},
     "output_type": "execute_result"
    }
   ],
   "source": [
    "survivedCt= titanic[(titanic[\"Survived\"]==1)]\n",
    "survivedCt.head(1)"
   ]
  },
  {
   "cell_type": "code",
   "execution_count": 30,
   "metadata": {
    "collapsed": true
   },
   "outputs": [],
   "source": [
    "survivedByClass=pd.pivot_table(survivedCt, index=['Pclass'], values=['Survived'], aggfunc=len)\n",
    "survivedByClass.reset_index(inplace=True)"
   ]
  },
  {
   "cell_type": "code",
   "execution_count": 31,
   "metadata": {
    "collapsed": false
   },
   "outputs": [
    {
     "data": {
      "text/html": [
       "<div>\n",
       "<table border=\"1\" class=\"dataframe\">\n",
       "  <thead>\n",
       "    <tr style=\"text-align: right;\">\n",
       "      <th></th>\n",
       "      <th>Pclass_l</th>\n",
       "      <th>Survived</th>\n",
       "      <th>Pclass</th>\n",
       "      <th>PassengerId</th>\n",
       "    </tr>\n",
       "  </thead>\n",
       "  <tbody>\n",
       "    <tr>\n",
       "      <th>0</th>\n",
       "      <td>1</td>\n",
       "      <td>136</td>\n",
       "      <td>1</td>\n",
       "      <td>216</td>\n",
       "    </tr>\n",
       "    <tr>\n",
       "      <th>1</th>\n",
       "      <td>2</td>\n",
       "      <td>87</td>\n",
       "      <td>2</td>\n",
       "      <td>184</td>\n",
       "    </tr>\n",
       "    <tr>\n",
       "      <th>2</th>\n",
       "      <td>3</td>\n",
       "      <td>119</td>\n",
       "      <td>3</td>\n",
       "      <td>491</td>\n",
       "    </tr>\n",
       "  </tbody>\n",
       "</table>\n",
       "</div>"
      ],
      "text/plain": [
       "   Pclass_l  Survived  Pclass  PassengerId\n",
       "0         1       136       1          216\n",
       "1         2        87       2          184\n",
       "2         3       119       3          491"
      ]
     },
     "execution_count": 31,
     "metadata": {},
     "output_type": "execute_result"
    }
   ],
   "source": [
    "\n",
    "#pd.merge?\n",
    "survivedByClass.join(byClasscount, lsuffix='_l')"
   ]
  },
  {
   "cell_type": "code",
   "execution_count": 32,
   "metadata": {
    "collapsed": false
   },
   "outputs": [
    {
     "data": {
      "text/html": [
       "<div>\n",
       "<table border=\"1\" class=\"dataframe\">\n",
       "  <thead>\n",
       "    <tr style=\"text-align: right;\">\n",
       "      <th></th>\n",
       "      <th>index</th>\n",
       "      <th>Pclass</th>\n",
       "      <th>Survived</th>\n",
       "    </tr>\n",
       "  </thead>\n",
       "  <tbody>\n",
       "    <tr>\n",
       "      <th>0</th>\n",
       "      <td>0</td>\n",
       "      <td>1</td>\n",
       "      <td>136</td>\n",
       "    </tr>\n",
       "    <tr>\n",
       "      <th>1</th>\n",
       "      <td>1</td>\n",
       "      <td>2</td>\n",
       "      <td>87</td>\n",
       "    </tr>\n",
       "    <tr>\n",
       "      <th>2</th>\n",
       "      <td>2</td>\n",
       "      <td>3</td>\n",
       "      <td>119</td>\n",
       "    </tr>\n",
       "  </tbody>\n",
       "</table>\n",
       "</div>"
      ],
      "text/plain": [
       "   index  Pclass  Survived\n",
       "0      0       1       136\n",
       "1      1       2        87\n",
       "2      2       3       119"
      ]
     },
     "execution_count": 32,
     "metadata": {},
     "output_type": "execute_result"
    }
   ],
   "source": [
    "survivedByClass.reset_index(inplace=True)\n",
    "survivedByClass.columns\n",
    "survivedByClass.head()\n"
   ]
  },
  {
   "cell_type": "code",
   "execution_count": 33,
   "metadata": {
    "collapsed": false
   },
   "outputs": [
    {
     "data": {
      "image/png": "[encoded data removed]",
      "text/plain": [
       "<matplotlib.figure.Figure at 0x11b71c510>"
      ]
     },
     "metadata": {},
     "output_type": "display_data"
    }
   ],
   "source": [
    "plt.bar(survivedByClass['Pclass'], survivedByClass['Survived'])\n",
    "plt.xlabel(\"Class\")\n",
    "plt.ylabel('Survived');\n",
    "\n"
   ]
  },
  {
   "cell_type": "code",
   "execution_count": 34,
   "metadata": {
    "collapsed": false
   },
   "outputs": [
    {
     "data": {
      "text/plain": [
       "49.66553444477411"
      ]
     },
     "execution_count": 34,
     "metadata": {},
     "output_type": "execute_result"
    },
    {
     "data": {
      "image/png": "[encoded data removed]",
      "text/plain": [
       "<matplotlib.figure.Figure at 0x11b892ed0>"
      ]
     },
     "metadata": {},
     "output_type": "display_data"
    }
   ],
   "source": [
    "plt.hist(titanic['Fare']);\n",
    "np.std(titanic['Fare'])"
   ]
  },
  {
   "cell_type": "code",
   "execution_count": 35,
   "metadata": {
    "collapsed": false
   },
   "outputs": [
    {
     "data": {
      "text/html": [
       "<div>\n",
       "<table border=\"1\" class=\"dataframe\">\n",
       "  <thead>\n",
       "    <tr style=\"text-align: right;\">\n",
       "      <th></th>\n",
       "      <th>amin</th>\n",
       "      <th>amax</th>\n",
       "    </tr>\n",
       "    <tr>\n",
       "      <th>Pclass</th>\n",
       "      <th></th>\n",
       "      <th></th>\n",
       "    </tr>\n",
       "  </thead>\n",
       "  <tbody>\n",
       "    <tr>\n",
       "      <th>1</th>\n",
       "      <td>0.0</td>\n",
       "      <td>512.3292</td>\n",
       "    </tr>\n",
       "    <tr>\n",
       "      <th>2</th>\n",
       "      <td>0.0</td>\n",
       "      <td>73.5000</td>\n",
       "    </tr>\n",
       "    <tr>\n",
       "      <th>3</th>\n",
       "      <td>0.0</td>\n",
       "      <td>69.5500</td>\n",
       "    </tr>\n",
       "  </tbody>\n",
       "</table>\n",
       "</div>"
      ],
      "text/plain": [
       "        amin      amax\n",
       "Pclass                \n",
       "1        0.0  512.3292\n",
       "2        0.0   73.5000\n",
       "3        0.0   69.5500"
      ]
     },
     "execution_count": 35,
     "metadata": {},
     "output_type": "execute_result"
    }
   ],
   "source": [
    "fareRangeByClass= titanic.pivot_table(index='Pclass',values='Fare',aggfunc=[np.min, np.max])\n",
    "fareRangeByClass"
   ]
  },
  {
   "cell_type": "code",
   "execution_count": null,
   "metadata": {
    "collapsed": true
   },
   "outputs": [],
   "source": []
  },
  {
   "cell_type": "code",
   "execution_count": 36,
   "metadata": {
    "collapsed": false
   },
   "outputs": [
    {
     "data": {
      "image/png": "[encoded data removed]",
      "text/plain": [
       "<matplotlib.figure.Figure at 0x117d30850>"
      ]
     },
     "metadata": {},
     "output_type": "display_data"
    }
   ],
   "source": [
    "np.std(titanic['Fare'])\n",
    "plt.hist(titanic['Fare']);\n"
   ]
  },
  {
   "cell_type": "code",
   "execution_count": 37,
   "metadata": {
    "collapsed": false
   },
   "outputs": [
    {
     "name": "stdout",
     "output_type": "stream",
     "text": [
      "Index([u'Pclass', u'sum'], dtype='object')\n"
     ]
    }
   ],
   "source": [
    "classToUnknownAge= titanic.pivot_table(index='Pclass',values='unknownAge',aggfunc=[np.sum])\n",
    "classToUnknownAge.reset_index(inplace=True)\n",
    "print classToUnknownAge.columns\n"
   ]
  },
  {
   "cell_type": "code",
   "execution_count": 38,
   "metadata": {
    "collapsed": false
   },
   "outputs": [
    {
     "data": {
      "image/png": "[encoded data removed]",
      "text/plain": [
       "<matplotlib.figure.Figure at 0x101b60250>"
      ]
     },
     "metadata": {},
     "output_type": "display_data"
    }
   ],
   "source": [
    "plt.bar(classToUnknownAge['Pclass'], classToUnknownAge['sum'])\n",
    "plt.title('By Class the Number of Unknown Ages')\n",
    "plt.xlabel(\"Class\")\n",
    "plt.ylabel('Number of Unknown Ages');"
   ]
  },
  {
   "cell_type": "code",
   "execution_count": 39,
   "metadata": {
    "collapsed": false
   },
   "outputs": [
    {
     "name": "stdout",
     "output_type": "stream",
     "text": [
      "Index([u'Pclass', u'sum'], dtype='object')\n"
     ]
    }
   ],
   "source": [
    "classToUnknownCabin= titanic.pivot_table(index='Pclass',values='unknownCabin',aggfunc=[np.sum])\n",
    "classToUnknownCabin.reset_index(inplace=True)\n",
    "print classToUnknownCabin.columns"
   ]
  },
  {
   "cell_type": "code",
   "execution_count": 40,
   "metadata": {
    "collapsed": false
   },
   "outputs": [
    {
     "data": {
      "image/png": "[encoded data removed]",
      "text/plain": [
       "<matplotlib.figure.Figure at 0x11bbe0850>"
      ]
     },
     "metadata": {},
     "output_type": "display_data"
    }
   ],
   "source": [
    "plt.bar(classToUnknownCabin['Pclass'], classToUnknownCabin['sum'])\n",
    "plt.title('By Class the Number of Passengers With Unknown Cabin Numbers')\n",
    "plt.xlabel(\"Class\")\n",
    "plt.ylabel('Number of Unknown Cabins');"
   ]
  },
  {
   "cell_type": "code",
   "execution_count": null,
   "metadata": {
    "collapsed": true
   },
   "outputs": [],
   "source": []
  },
  {
   "cell_type": "markdown",
   "metadata": {},
   "source": [
    "# beginning to test variables"
   ]
  },
  {
   "cell_type": "code",
   "execution_count": 41,
   "metadata": {
    "collapsed": true
   },
   "outputs": [],
   "source": [
    "#dropping duplicates \n",
    "#This is why I created df1. I did not want the cabin number to be included. If it was I would \n",
    "#be dropping too many rows.\n",
    "#also I added the mean of ages to the missing data from the age row. "
   ]
  },
  {
   "cell_type": "code",
   "execution_count": 42,
   "metadata": {
    "collapsed": false
   },
   "outputs": [
    {
     "name": "stdout",
     "output_type": "stream",
     "text": [
      "(891, 16)\n",
      "(714, 16)\n"
     ]
    },
    {
     "name": "stderr",
     "output_type": "stream",
     "text": [
      "/anaconda/lib/python2.7/site-packages/ipykernel/__main__.py:2: SettingWithCopyWarning: \n",
      "A value is trying to be set on a copy of a slice from a DataFrame\n",
      "\n",
      "See the caveats in the documentation: http://pandas.pydata.org/pandas-docs/stable/indexing.html#indexing-view-versus-copy\n",
      "  from ipykernel import kernelapp as app\n"
     ]
    }
   ],
   "source": [
    "print df1.shape\n",
    "df1.dropna(inplace=True)\n",
    "print df1.shape\n",
    "#Because I filled in all those travelers without age with the mean of age then there were \n",
    "#no drops\n"
   ]
  },
  {
   "cell_type": "code",
   "execution_count": null,
   "metadata": {
    "collapsed": false
   },
   "outputs": [],
   "source": []
  },
  {
   "cell_type": "markdown",
   "metadata": {},
   "source": [
    "# Getting dataset finalized and dividing the data into train test\n"
   ]
  },
  {
   "cell_type": "code",
   "execution_count": 43,
   "metadata": {
    "collapsed": false
   },
   "outputs": [
    {
     "name": "stdout",
     "output_type": "stream",
     "text": [
      "(714,)\n",
      "(714, 14)\n"
     ]
    }
   ],
   "source": [
    "#defining X and y and checking their shape\n",
    "y=df1['Survived']\n",
    "X=df1[['AgeFilledIn',  'SibSp', 'Parch', 'Fare', 'first', 'second',\n",
    "       'third', 'embarked_C', 'embarked_Q', 'Child', 'Older Person',\n",
    "       'Male', 'unknownAge', 'unknownCabin']]\n",
    "print y.shape\n",
    "print X.shape"
   ]
  },
  {
   "cell_type": "code",
   "execution_count": null,
   "metadata": {
    "collapsed": false
   },
   "outputs": [],
   "source": []
  },
  {
   "cell_type": "code",
   "execution_count": 44,
   "metadata": {
    "collapsed": false
   },
   "outputs": [
    {
     "name": "stdout",
     "output_type": "stream",
     "text": [
      "[ 0.57342657  0.6993007   0.6993007   0.68531469  0.74647887]\n",
      "0.680764306116\n"
     ]
    }
   ],
   "source": [
    "#Model - KNneighbors\n",
    "#looking at the 5 closest through KNeighbors  I tried 3 and 5  and 7 on ALL data \n",
    "#using cross_val went through and created 10 folds. More accurate than TTS \n",
    "#This score was not as good as doing a logistic regression (see below)\n",
    "#\n",
    "\n",
    "\n",
    "# neigh = KNeighborsClassifier(n_neighbors=5)\n",
    "# print X.shape, y.shape\n",
    "# #neigh.fit(X.reshape(-1, 1),y.reshape(-1,1))\n",
    "# neigh.fit(x_train,y_train)\n",
    "# #print neigh.predict([[0]])\n",
    "# y_predict=neigh.predict(x_test)\n",
    "# print metrics.accuracy_score(y_test, y_predict)\n",
    "\n",
    "#cross_val does the spliting for you so you do not need to do the above\n",
    "\n",
    "neigh = KNeighborsClassifier(n_neighbors=7)\n",
    "scores=cross_val_score(neigh, X,y,  cv=5, scoring ='accuracy')\n",
    "print scores\n",
    "print scores.mean()"
   ]
  },
  {
   "cell_type": "markdown",
   "metadata": {},
   "source": [
    "# Logistic regressions \n",
    "The model is Logistic Regression with 3 differnt datasets.\n",
    "1. My guess used the TTS and Lasso and Ridge, show the confusion table and ROC\n",
    "2. All top down  then I looked at  GridCV \n",
    "3. Kbest then I looked at  GridCV\n"
   ]
  },
  {
   "cell_type": "code",
   "execution_count": 45,
   "metadata": {
    "collapsed": false
   },
   "outputs": [
    {
     "data": {
      "text/plain": [
       "((428, 14), (286, 14), (428,), (286,))"
      ]
     },
     "execution_count": 45,
     "metadata": {},
     "output_type": "execute_result"
    }
   ],
   "source": [
    "#creating train and test dataframes.  I select test size of .4, therefore\n",
    "#the train size will be .6\n",
    "x_train, x_test, y_train, y_test = train_test_split(X, y, test_size =.4)\n",
    "\n",
    "x_train.shape, x_test.shape, y_train.shape, y_test.shape"
   ]
  },
  {
   "cell_type": "code",
   "execution_count": 46,
   "metadata": {
    "collapsed": false
   },
   "outputs": [
    {
     "data": {
      "text/plain": [
       "0.76869158878504673"
      ]
     },
     "execution_count": 46,
     "metadata": {},
     "output_type": "execute_result"
    }
   ],
   "source": [
    "# Model 1 MyGuess with the variables I think will predict survival\n",
    "#I used the correlation table for guidance\n",
    "#This is TTS\n",
    "\n",
    "x_trainMyGuess=x_train[['first','Fare', 'third','unknownCabin', 'Male']]\n",
    "x_testMyGuess=x_test[['first','Fare', 'third','unknownCabin', 'Male']]\n",
    "modelMyGuess = LogisticRegression() \n",
    "modelMyGuess.fit(x_trainMyGuess, y_train) \n",
    "Y_pred = modelMyGuess.predict(x_testMyGuess)\n",
    "modelMyGuess.score(x_trainMyGuess, y_train)"
   ]
  },
  {
   "cell_type": "code",
   "execution_count": 47,
   "metadata": {
    "collapsed": false
   },
   "outputs": [
    {
     "data": {
      "text/plain": [
       "0.79020979020979021"
      ]
     },
     "execution_count": 47,
     "metadata": {},
     "output_type": "execute_result"
    }
   ],
   "source": [
    "#now using the test data in my prediction model.\n",
    "#it is close but the training the model with training data did very slightly\n",
    "# overfit the data\n",
    "\n",
    "modelMyGuess.fit(x_testMyGuess, y_test) \n",
    "modelMyGuess.score(x_testMyGuess, y_test)\n"
   ]
  },
  {
   "cell_type": "code",
   "execution_count": 48,
   "metadata": {
    "collapsed": false
   },
   "outputs": [
    {
     "data": {
      "text/plain": [
       "0.8123249299719888"
      ]
     },
     "execution_count": 48,
     "metadata": {},
     "output_type": "execute_result"
    }
   ],
   "source": [
    "#running all the data through the model.\n",
    "\n",
    "modelMyGuess.fit(X, y) \n",
    "modelMyGuess.score(X, y)"
   ]
  },
  {
   "cell_type": "code",
   "execution_count": 49,
   "metadata": {
    "collapsed": false
   },
   "outputs": [
    {
     "name": "stdout",
     "output_type": "stream",
     "text": [
      "                  Predicted Survived  Predicted Did Not Survived\n",
      "Survived                         130                          39\n",
      "Did not survived                  29                          88\n"
     ]
    }
   ],
   "source": [
    "#look at the confusion matric\n",
    "#My model predicted (179+99) correctly and (40 + 39) incorrectly\n",
    "#with approximately .78 accuracy the model will predict whether a passenger would survive \n",
    "#given the following variables: 'first','Fare', 'third','unknownCabin', 'Male'\n",
    "#\n",
    "conmat = np.array(confusion_matrix(y_test, Y_pred))\n",
    "\n",
    "confusion = pd.DataFrame(conmat, index=['Survived', 'Did not survived'],\n",
    "                         columns=['Predicted Survived', 'Predicted Did Not Survived'])\n",
    "\n",
    "print(confusion)"
   ]
  },
  {
   "cell_type": "code",
   "execution_count": 50,
   "metadata": {
    "collapsed": false
   },
   "outputs": [
    {
     "name": "stdout",
     "output_type": "stream",
     "text": [
      "             precision    recall  f1-score   support\n",
      "\n",
      "          0       0.82      0.77      0.79       169\n",
      "          1       0.69      0.75      0.72       117\n",
      "\n",
      "avg / total       0.77      0.76      0.76       286\n",
      "\n"
     ]
    }
   ],
   "source": [
    "#Precision is tp/(tp + fp)  is the probabliy that some predicted to not survive actual \n",
    "#does not survive\n",
    "#recall = tp/(tp + fn)  that someone who predicted to survive \n",
    "#is labeled as such\n",
    "\n",
    "cls_rep = classification_report(y_test, Y_pred)\n",
    "print(cls_rep)"
   ]
  },
  {
   "cell_type": "code",
   "execution_count": 51,
   "metadata": {
    "collapsed": false
   },
   "outputs": [
    {
     "data": {
      "text/plain": [
       "<matplotlib.axes._subplots.AxesSubplot at 0x11bd3bd10>"
      ]
     },
     "execution_count": 51,
     "metadata": {},
     "output_type": "execute_result"
    },
    {
     "data": {
      "image/png": "[encoded data removed]",
      "text/plain": [
       "<matplotlib.figure.Figure at 0x11bd3b850>"
      ]
     },
     "metadata": {},
     "output_type": "display_data"
    }
   ],
   "source": [
    "sns.heatmap(confusion_matrix(y_test, Y_pred), annot=True)"
   ]
  },
  {
   "cell_type": "code",
   "execution_count": 52,
   "metadata": {
    "collapsed": false
   },
   "outputs": [
    {
     "name": "stdout",
     "output_type": "stream",
     "text": [
      "[('True Positives', 88), ('False Positives', 39), ('True Negatives', 130), ('False Negatives', 29)]\n"
     ]
    }
   ],
   "source": [
    "TP = confusion.ix['Did not survived', 'Predicted Did Not Survived']\n",
    "FP = confusion.ix['Survived', 'Predicted Did Not Survived']\n",
    "TN = confusion.ix['Survived', 'Predicted Survived']\n",
    "FN = confusion.ix['Did not survived', 'Predicted Survived']\n",
    "\n",
    "print(zip(['True Positives','False Positives','True Negatives','False Negatives'],\n",
    "          [TP, FP, TN, FN]))"
   ]
  },
  {
   "cell_type": "code",
   "execution_count": 53,
   "metadata": {
    "collapsed": false
   },
   "outputs": [
    {
     "data": {
      "text/plain": [
       "0.80952380952380953"
      ]
     },
     "execution_count": 53,
     "metadata": {},
     "output_type": "execute_result"
    }
   ],
   "source": [
    "#Applying lasso when regularizing will zero out some of the coefficients (variables)\n",
    "#the goal is to not have a model that overfits the data\n",
    "#Overfitting will not allow the model to be used for a different set of data\n",
    "#I changed the value of C to see how that affected the model\n",
    "#I settled on 10 which increased the accuracy to .81\n",
    "lmMyScoresLasso=LogisticRegression(penalty='l1', C=10.0)\n",
    "lmMyScoresLasso.fit(X, y)\n",
    "lmMyScoresLasso.score(X,y)"
   ]
  },
  {
   "cell_type": "code",
   "execution_count": 54,
   "metadata": {
    "collapsed": false
   },
   "outputs": [
    {
     "name": "stdout",
     "output_type": "stream",
     "text": [
      "0.799719887955\n"
     ]
    }
   ],
   "source": [
    "#Applying ridge when regularizing  the model reduces the coefficients\n",
    "#I should have used lasso and ridge on my all variable model.  In this model \n",
    "#there are not alot of variables.  Changing C in this model did very little to affect\n",
    "#accuracy\n",
    "lmMyScoresRidge=LogisticRegression(penalty='l2', C=0.1)\n",
    "lmMyScoresRidge.fit(X, y)\n",
    "print lmMyScoresRidge.score(X,y)"
   ]
  },
  {
   "cell_type": "code",
   "execution_count": 55,
   "metadata": {
    "collapsed": false
   },
   "outputs": [],
   "source": [
    "#ROC\n",
    "logreg = LogisticRegression()\n",
    "logreg.fit(x_train, y_train)\n",
    "Y_pred = logreg.predict(x_test)"
   ]
  },
  {
   "cell_type": "code",
   "execution_count": 56,
   "metadata": {
    "collapsed": false
   },
   "outputs": [],
   "source": [
    "Y_score=logreg.decision_function(x_test)"
   ]
  },
  {
   "cell_type": "code",
   "execution_count": 57,
   "metadata": {
    "collapsed": false
   },
   "outputs": [],
   "source": [
    "y_score = logreg.decision_function(x_test)\n",
    "FPR = dict()\n",
    "TPR = dict()\n",
    "ROC_AUC = dict() # {}"
   ]
  },
  {
   "cell_type": "code",
   "execution_count": 58,
   "metadata": {
    "collapsed": false
   },
   "outputs": [
    {
     "name": "stdout",
     "output_type": "stream",
     "text": [
      "(array([ 0.        ,  0.        ,  0.00591716,  0.00591716,  0.01183432,\n",
      "        0.01183432,  0.01775148,  0.01775148,  0.01775148,  0.01775148,\n",
      "        0.02366864,  0.02366864,  0.0295858 ,  0.0295858 ,  0.03550296,\n",
      "        0.03550296,  0.06508876,  0.06508876,  0.07692308,  0.07692308,\n",
      "        0.08284024,  0.08284024,  0.0887574 ,  0.0887574 ,  0.10650888,\n",
      "        0.10650888,  0.11242604,  0.11242604,  0.12426036,  0.12426036,\n",
      "        0.16568047,  0.16568047,  0.17751479,  0.17751479,  0.18343195,\n",
      "        0.18343195,  0.20710059,  0.20710059,  0.21301775,  0.21301775,\n",
      "        0.24260355,  0.24260355,  0.26035503,  0.26035503,  0.26627219,\n",
      "        0.26627219,  0.30177515,  0.30177515,  0.33136095,  0.34319527,\n",
      "        0.37278107,  0.38461538,  0.39053254,  0.39053254,  0.40828402,\n",
      "        0.41420118,  0.44970414,  0.44970414,  0.4556213 ,  0.4556213 ,\n",
      "        0.55029586,  0.55029586,  0.63313609,  0.63313609,  0.65088757,\n",
      "        0.65088757,  0.68047337,  0.68639053,  0.72189349,  0.72189349,\n",
      "        0.74556213,  0.74556213,  0.81656805,  0.81656805,  0.86390533,\n",
      "        0.86390533,  0.87573964,  0.8816568 ,  1.        ]), array([ 0.00854701,  0.03418803,  0.03418803,  0.1025641 ,  0.1025641 ,\n",
      "        0.31623932,  0.31623932,  0.38461538,  0.4017094 ,  0.5042735 ,\n",
      "        0.5042735 ,  0.52991453,  0.52991453,  0.61538462,  0.61538462,\n",
      "        0.64102564,  0.64102564,  0.64957265,  0.64957265,  0.65811966,\n",
      "        0.65811966,  0.68376068,  0.68376068,  0.70940171,  0.70940171,\n",
      "        0.71794872,  0.71794872,  0.72649573,  0.72649573,  0.74358974,\n",
      "        0.74358974,  0.76068376,  0.76068376,  0.77777778,  0.77777778,\n",
      "        0.78632479,  0.78632479,  0.79487179,  0.79487179,  0.82051282,\n",
      "        0.82051282,  0.82905983,  0.82905983,  0.83760684,  0.83760684,\n",
      "        0.84615385,  0.84615385,  0.87179487,  0.87179487,  0.87179487,\n",
      "        0.87179487,  0.87179487,  0.87179487,  0.88034188,  0.88034188,\n",
      "        0.88888889,  0.88888889,  0.8974359 ,  0.8974359 ,  0.91452991,\n",
      "        0.91452991,  0.92307692,  0.92307692,  0.94017094,  0.94017094,\n",
      "        0.94871795,  0.94871795,  0.95726496,  0.95726496,  0.96581197,\n",
      "        0.96581197,  0.97435897,  0.97435897,  0.98290598,  0.98290598,\n",
      "        0.99145299,  0.99145299,  1.        ,  1.        ]), array([ 2.84813322,  2.78974996,  2.75248563,  2.48938604,  2.46778387,\n",
      "        1.75991033,  1.60959074,  1.11952935,  1.11206991,  0.9418262 ,\n",
      "        0.80952603,  0.69384162,  0.65441046,  0.51728701,  0.51136013,\n",
      "        0.48595495,  0.34499502,  0.34448349,  0.31447267,  0.3105883 ,\n",
      "        0.30382967,  0.260258  ,  0.25019533,  0.22908621,  0.19995995,\n",
      "        0.19642272,  0.19450715,  0.19345474,  0.17289872,  0.15492161,\n",
      "        0.08094172,  0.0415756 , -0.00652956, -0.07176463, -0.08720451,\n",
      "       -0.09941494, -0.16978573, -0.22089968, -0.22628316, -0.29080248,\n",
      "       -0.32319872, -0.33721302, -0.38823733, -0.50595864, -0.51793166,\n",
      "       -0.62401615, -1.02936208, -1.0616825 , -1.23106905, -1.23178363,\n",
      "       -1.25173209, -1.25775551, -1.26212084, -1.26294988, -1.30881593,\n",
      "       -1.32008801, -1.43319359, -1.70195567, -1.71586487, -1.73310609,\n",
      "       -1.99821461, -1.99826575, -2.0194329 , -2.02676247, -2.03457524,\n",
      "       -2.03946426, -2.06108066, -2.06575118, -2.07618138, -2.08185816,\n",
      "       -2.1072965 , -2.11199471, -2.15808667, -2.1764927 , -2.44819756,\n",
      "       -2.46406946, -2.47510793, -2.48999159, -3.03585262]))\n"
     ]
    },
    {
     "data": {
      "image/png": "[encoded data removed]",
      "text/plain": [
       "<matplotlib.figure.Figure at 0x11bd555d0>"
      ]
     },
     "metadata": {},
     "output_type": "display_data"
    }
   ],
   "source": [
    "\n",
    "\n",
    "print roc_curve(y_test, y_score)\n",
    "\n",
    "FPR[1], TPR[1], _ = roc_curve(y_test, y_score)\n",
    "ROC_AUC[1] = auc(FPR[1], TPR[1])\n",
    "\n",
    "\n",
    "# Plot of a ROC curve for survived\n",
    "plt.figure(figsize=[11,9])\n",
    "plt.plot(FPR[1], TPR[1], label='ROC curve (area = %0.2f)' % ROC_AUC[1], linewidth=4)\n",
    "plt.plot([0, 1], [0, 1], 'k--', linewidth=4)\n",
    "plt.xlim([0.0, 1.0])\n",
    "plt.ylim([0.0, 1.05])\n",
    "plt.xlabel('False Positive Rate', fontsize=18)\n",
    "plt.ylabel('True Positive Rate', fontsize=18)\n",
    "plt.title('Receiver operating characteristic for survival', fontsize=18)\n",
    "plt.legend(loc=\"lower right\")\n",
    "plt.show()"
   ]
  },
  {
   "cell_type": "code",
   "execution_count": null,
   "metadata": {
    "collapsed": false
   },
   "outputs": [],
   "source": []
  },
  {
   "cell_type": "code",
   "execution_count": null,
   "metadata": {
    "collapsed": true
   },
   "outputs": [],
   "source": []
  },
  {
   "cell_type": "markdown",
   "metadata": {},
   "source": [
    "# Model 2 All Variables\n",
    "Logistic model with all variables and using grid search cross validation \n"
   ]
  },
  {
   "cell_type": "code",
   "execution_count": 59,
   "metadata": {
    "collapsed": false
   },
   "outputs": [
    {
     "data": {
      "text/plain": [
       "0.80532212885154064"
      ]
     },
     "execution_count": 59,
     "metadata": {},
     "output_type": "execute_result"
    }
   ],
   "source": [
    "#creating regress model for all\n",
    "X2=df1[['SibSp','Parch', 'Fare', 'first', 'second',\n",
    "       'third', 'embarked_C', 'embarked_Q', 'Child', 'Older Person',\n",
    "       'Male', 'unknownAge', 'unknownCabin']]\n",
    "lm2 = LogisticRegression()\n",
    "lm2.fit(X2, y)\n",
    "lm2.score(X2, y)"
   ]
  },
  {
   "cell_type": "code",
   "execution_count": 60,
   "metadata": {
    "collapsed": false
   },
   "outputs": [],
   "source": [
    "#do a grid search\n",
    "parameters = {\n",
    "    'penalty': ['l1', 'l2'],\n",
    "    'C': [0.1, 1, 10, 20, 50]}\n",
    "model2 = LogisticRegression()"
   ]
  },
  {
   "cell_type": "code",
   "execution_count": 61,
   "metadata": {
    "collapsed": false
   },
   "outputs": [],
   "source": [
    "#\n",
    "grid_search = GridSearchCV(estimator=model2,\n",
    "                          param_grid=parameters,\n",
    "                          verbose=10,\n",
    "                          cv=6)"
   ]
  },
  {
   "cell_type": "code",
   "execution_count": 62,
   "metadata": {
    "collapsed": false
   },
   "outputs": [
    {
     "name": "stdout",
     "output_type": "stream",
     "text": [
      "Fitting 6 folds for each of 10 candidates, totalling 60 fits\n",
      "[CV] penalty=l1, C=0.1 ...............................................\n",
      "[CV] ...................... penalty=l1, C=0.1, score=0.716667 -   0.0s\n",
      "[CV] penalty=l1, C=0.1 ...............................................\n",
      "[CV] ...................... penalty=l1, C=0.1, score=0.816667 -   0.0s\n",
      "[CV] penalty=l1, C=0.1 ...............................................\n",
      "[CV] ...................... penalty=l1, C=0.1, score=0.747899 -   0.0s\n",
      "[CV] penalty=l1, C=0.1 ...............................................\n",
      "[CV] ...................... penalty=l1, C=0.1, score=0.773109 -   0.0s\n",
      "[CV] penalty=l1, C=0.1 ...............................................\n",
      "[CV] ...................... penalty=l1, C=0.1, score=0.754237 -   0.0s\n",
      "[CV] penalty=l1, C=0.1 ...............................................\n",
      "[CV] ...................... penalty=l1, C=0.1, score=0.796610 -   0.0s\n",
      "[CV] penalty=l2, C=0.1 ...............................................\n",
      "[CV] ...................... penalty=l2, C=0.1, score=0.750000 -   0.0s\n",
      "[CV] penalty=l2, C=0.1 ...............................................\n",
      "[CV] ...................... penalty=l2, C=0.1, score=0.791667 -   0.0s\n",
      "[CV] penalty=l2, C=0.1 ...............................................\n",
      "[CV] ...................... penalty=l2, C=0.1, score=0.764706 -   0.0s\n",
      "[CV] penalty=l2, C=0.1 ...............................................\n",
      "[CV] ...................... penalty=l2, C=0.1, score=0.806723 -   0.0s\n",
      "[CV] penalty=l2, C=0.1 ...............................................\n",
      "[CV] ...................... penalty=l2, C=0.1, score=0.754237 -   0.0s\n",
      "[CV] penalty=l2, C=0.1 ...............................................\n",
      "[CV] ...................... penalty=l2, C=0.1, score=0.822034 -   0.0s\n",
      "[CV] penalty=l1, C=1 .................................................\n",
      "[CV] ........................ penalty=l1, C=1, score=0.741667 -   0.0s\n",
      "[CV] penalty=l1, C=1 .................................................\n",
      "[CV] ........................ penalty=l1, C=1, score=0.800000 -   0.0s\n",
      "[CV] penalty=l1, C=1 .................................................\n",
      "[CV] ........................ penalty=l1, C=1, score=0.773109 -   0.0s\n",
      "[CV] penalty=l1, C=1 .................................................\n",
      "[CV] ........................ penalty=l1, C=1, score=0.764706 -   0.0s\n",
      "[CV] penalty=l1, C=1 .................................................\n",
      "[CV] ........................ penalty=l1, C=1, score=0.779661 -   0.0s\n",
      "[CV] penalty=l1, C=1 .................................................\n",
      "[CV] ........................ penalty=l1, C=1, score=0.813559 -   0.0s\n",
      "[CV] penalty=l2, C=1 .................................................\n",
      "[CV] ........................ penalty=l2, C=1, score=0.750000 -   0.0s\n",
      "[CV] penalty=l2, C=1 .................................................\n",
      "[CV] ........................ penalty=l2, C=1, score=0.783333 -   0.0s\n",
      "[CV] penalty=l2, C=1 .................................................\n",
      "[CV] ........................ penalty=l2, C=1, score=0.773109 -   0.0s\n",
      "[CV] penalty=l2, C=1 .................................................\n",
      "[CV] ........................ penalty=l2, C=1, score=0.756303 -   0.0s\n",
      "[CV] penalty=l2, C=1 .................................................\n",
      "[CV] ........................ penalty=l2, C=1, score=0.796610 -   0.0s\n",
      "[CV] penalty=l2, C=1 .................................................\n",
      "[CV] ........................ penalty=l2, C=1, score=0.822034 -   0.0s\n",
      "[CV] penalty=l1, C=10 ................................................\n",
      "[CV] ....................... penalty=l1, C=10, score=0.741667 -   0.0s\n",
      "[CV] penalty=l1, C=10 ................................................\n",
      "[CV] ....................... penalty=l1, C=10, score=0.775000 -   0.0s\n",
      "[CV] penalty=l1, C=10 ................................................\n",
      "[CV] ....................... penalty=l1, C=10, score=0.773109 -   0.0s\n",
      "[CV] penalty=l1, C=10 ................................................\n",
      "[CV] ....................... penalty=l1, C=10, score=0.789916 -   0.0s\n",
      "[CV] penalty=l1, C=10 ................................................\n",
      "[CV] ....................... penalty=l1, C=10, score=0.796610 -   0.0s\n",
      "[CV] penalty=l1, C=10 ................................................\n",
      "[CV] ....................... penalty=l1, C=10, score=0.788136 -   0.0s\n",
      "[CV] penalty=l2, C=10 ................................................\n",
      "[CV] ....................... penalty=l2, C=10, score=0.741667 -   0.0s\n",
      "[CV] penalty=l2, C=10 ................................................\n"
     ]
    },
    {
     "name": "stderr",
     "output_type": "stream",
     "text": [
      "[Parallel(n_jobs=1)]: Done   1 tasks       | elapsed:    0.0s\n",
      "[Parallel(n_jobs=1)]: Done   4 tasks       | elapsed:    0.0s\n",
      "[Parallel(n_jobs=1)]: Done   7 tasks       | elapsed:    0.1s\n",
      "[Parallel(n_jobs=1)]: Done  12 tasks       | elapsed:    0.1s\n",
      "[Parallel(n_jobs=1)]: Done  17 tasks       | elapsed:    0.1s\n",
      "[Parallel(n_jobs=1)]: Done  24 tasks       | elapsed:    0.2s\n",
      "[Parallel(n_jobs=1)]: Done  31 tasks       | elapsed:    0.2s\n"
     ]
    },
    {
     "name": "stdout",
     "output_type": "stream",
     "text": [
      "[CV] ....................... penalty=l2, C=10, score=0.775000 -   0.0s\n",
      "[CV] penalty=l2, C=10 ................................................\n",
      "[CV] ....................... penalty=l2, C=10, score=0.773109 -   0.0s\n",
      "[CV] penalty=l2, C=10 ................................................\n",
      "[CV] ....................... penalty=l2, C=10, score=0.789916 -   0.0s\n",
      "[CV] penalty=l2, C=10 ................................................\n",
      "[CV] ....................... penalty=l2, C=10, score=0.796610 -   0.0s\n",
      "[CV] penalty=l2, C=10 ................................................\n",
      "[CV] ....................... penalty=l2, C=10, score=0.788136 -   0.0s\n",
      "[CV] penalty=l1, C=20 ................................................\n",
      "[CV] ....................... penalty=l1, C=20, score=0.741667 -   0.0s\n",
      "[CV] penalty=l1, C=20 ................................................\n",
      "[CV] ....................... penalty=l1, C=20, score=0.775000 -   0.0s\n",
      "[CV] penalty=l1, C=20 ................................................\n",
      "[CV] ....................... penalty=l1, C=20, score=0.773109 -   0.0s\n",
      "[CV] penalty=l1, C=20 ................................................\n",
      "[CV] ....................... penalty=l1, C=20, score=0.789916 -   0.0s\n",
      "[CV] penalty=l1, C=20 ................................................\n",
      "[CV] ....................... penalty=l1, C=20, score=0.796610 -   0.0s\n",
      "[CV] penalty=l1, C=20 ................................................\n",
      "[CV] ....................... penalty=l1, C=20, score=0.788136 -   0.0s\n",
      "[CV] penalty=l2, C=20 ................................................\n",
      "[CV] ....................... penalty=l2, C=20, score=0.741667 -   0.0s\n",
      "[CV] penalty=l2, C=20 ................................................\n",
      "[CV] ....................... penalty=l2, C=20, score=0.775000 -   0.0s\n",
      "[CV] penalty=l2, C=20 ................................................\n",
      "[CV] ....................... penalty=l2, C=20, score=0.773109 -   0.0s\n",
      "[CV] penalty=l2, C=20 ................................................\n",
      "[CV] ....................... penalty=l2, C=20, score=0.789916 -   0.0s\n",
      "[CV] penalty=l2, C=20 ................................................\n",
      "[CV] ....................... penalty=l2, C=20, score=0.796610 -   0.0s\n",
      "[CV] penalty=l2, C=20 ................................................\n",
      "[CV] ....................... penalty=l2, C=20, score=0.788136 -   0.0s\n",
      "[CV] penalty=l1, C=50 ................................................\n",
      "[CV] ....................... penalty=l1, C=50, score=0.741667 -   0.0s\n",
      "[CV] penalty=l1, C=50 ................................................\n",
      "[CV] ....................... penalty=l1, C=50, score=0.775000 -   0.0s\n",
      "[CV] penalty=l1, C=50 ................................................\n",
      "[CV] ....................... penalty=l1, C=50, score=0.773109 -   0.0s\n",
      "[CV] penalty=l1, C=50 ................................................\n",
      "[CV] ....................... penalty=l1, C=50, score=0.789916 -   0.0s\n",
      "[CV] penalty=l1, C=50 ................................................\n",
      "[CV] ....................... penalty=l1, C=50, score=0.796610 -   0.0s\n",
      "[CV] penalty=l1, C=50 ................................................\n",
      "[CV] ....................... penalty=l1, C=50, score=0.788136 -   0.0s\n",
      "[CV] penalty=l2, C=50 ................................................\n",
      "[CV] ....................... penalty=l2, C=50, score=0.741667 -   0.0s\n",
      "[CV] penalty=l2, C=50 ................................................\n",
      "[CV] ....................... penalty=l2, C=50, score=0.775000 -   0.0s\n",
      "[CV] penalty=l2, C=50 ................................................\n",
      "[CV] ....................... penalty=l2, C=50, score=0.773109 -   0.0s\n",
      "[CV] penalty=l2, C=50 ................................................\n",
      "[CV] ....................... penalty=l2, C=50, score=0.789916 -   0.0s\n",
      "[CV] penalty=l2, C=50 ................................................\n",
      "[CV] ....................... penalty=l2, C=50, score=0.796610 -   0.0s\n",
      "[CV] penalty=l2, C=50 ................................................\n",
      "[CV] ....................... penalty=l2, C=50, score=0.788136 -   0.0s\n"
     ]
    },
    {
     "name": "stderr",
     "output_type": "stream",
     "text": [
      "[Parallel(n_jobs=1)]: Done  40 tasks       | elapsed:    0.3s\n",
      "[Parallel(n_jobs=1)]: Done  49 tasks       | elapsed:    0.3s\n",
      "[Parallel(n_jobs=1)]: Done  60 tasks       | elapsed:    0.4s\n",
      "[Parallel(n_jobs=1)]: Done  60 out of  60 | elapsed:    0.4s finished\n"
     ]
    },
    {
     "data": {
      "text/plain": [
       "GridSearchCV(cv=6, error_score='raise',\n",
       "       estimator=LogisticRegression(C=1.0, class_weight=None, dual=False, fit_intercept=True,\n",
       "          intercept_scaling=1, max_iter=100, multi_class='ovr', n_jobs=1,\n",
       "          penalty='l2', random_state=None, solver='liblinear', tol=0.0001,\n",
       "          verbose=0, warm_start=False),\n",
       "       fit_params={}, iid=True, n_jobs=1,\n",
       "       param_grid={'penalty': ['l1', 'l2'], 'C': [0.1, 1, 10, 20, 50]},\n",
       "       pre_dispatch='2*n_jobs', refit=True, scoring=None, verbose=10)"
      ]
     },
     "execution_count": 62,
     "metadata": {},
     "output_type": "execute_result"
    }
   ],
   "source": [
    "grid_search.fit(X2, y)\n"
   ]
  },
  {
   "cell_type": "code",
   "execution_count": 63,
   "metadata": {
    "collapsed": false
   },
   "outputs": [
    {
     "name": "stdout",
     "output_type": "stream",
     "text": [
      "0.781512605042\n"
     ]
    }
   ],
   "source": [
    "print(grid_search.best_score_)\n"
   ]
  },
  {
   "cell_type": "code",
   "execution_count": 64,
   "metadata": {
    "collapsed": false
   },
   "outputs": [
    {
     "data": {
      "text/plain": [
       "LogisticRegression(C=0.1, class_weight=None, dual=False, fit_intercept=True,\n",
       "          intercept_scaling=1, max_iter=100, multi_class='ovr', n_jobs=1,\n",
       "          penalty='l2', random_state=None, solver='liblinear', tol=0.0001,\n",
       "          verbose=0, warm_start=False)"
      ]
     },
     "execution_count": 64,
     "metadata": {},
     "output_type": "execute_result"
    }
   ],
   "source": [
    "grid_search.best_estimator_.fit(X2, y)\n",
    "#penalty = Lasso"
   ]
  },
  {
   "cell_type": "code",
   "execution_count": 65,
   "metadata": {
    "collapsed": false
   },
   "outputs": [
    {
     "data": {
      "text/plain": [
       "0.79691876750700286"
      ]
     },
     "execution_count": 65,
     "metadata": {},
     "output_type": "execute_result"
    }
   ],
   "source": [
    "grid_search.best_estimator_.score(X2, y)"
   ]
  },
  {
   "cell_type": "code",
   "execution_count": 66,
   "metadata": {
    "collapsed": false
   },
   "outputs": [],
   "source": [
    "predictions = grid_search.best_estimator_.predict(X2)"
   ]
  },
  {
   "cell_type": "code",
   "execution_count": 67,
   "metadata": {
    "collapsed": false
   },
   "outputs": [
    {
     "data": {
      "text/plain": [
       "(714, 13)"
      ]
     },
     "execution_count": 67,
     "metadata": {},
     "output_type": "execute_result"
    }
   ],
   "source": [
    "X2.shape"
   ]
  },
  {
   "cell_type": "code",
   "execution_count": 68,
   "metadata": {
    "collapsed": false
   },
   "outputs": [
    {
     "data": {
      "text/plain": [
       "array([[389,  35],\n",
       "       [110, 180]])"
      ]
     },
     "execution_count": 68,
     "metadata": {},
     "output_type": "execute_result"
    }
   ],
   "source": [
    "\n",
    "conM2=np.array(confusion_matrix(y, predictions))\n",
    "conM2"
   ]
  },
  {
   "cell_type": "code",
   "execution_count": 69,
   "metadata": {
    "collapsed": false
   },
   "outputs": [
    {
     "name": "stdout",
     "output_type": "stream",
     "text": [
      "                  Predicted Survived  Predicted Did Not Survived\n",
      "Survived                         389                          35\n",
      "Did not survived                 110                         180\n"
     ]
    }
   ],
   "source": [
    "conmat2 = np.array(confusion_matrix(y, predictions))\n",
    "\n",
    "confusion = pd.DataFrame(conmat2, index=['Survived', 'Did not survived'],\n",
    "                         columns=['Predicted Survived', 'Predicted Did Not Survived'])\n",
    "\n",
    "print(confusion)\n",
    "TP = confusion.ix['Did not survived', 'Predicted Did Not Survived']\n",
    "FP = confusion.ix['Survived', 'Predicted Did Not Survived']\n",
    "TN = confusion.ix['Survived', 'Predicted Survived']\n",
    "FN = confusion.ix['Did not survived', 'Predicted Survived']\n",
    "\n"
   ]
  },
  {
   "cell_type": "code",
   "execution_count": 70,
   "metadata": {
    "collapsed": false
   },
   "outputs": [
    {
     "name": "stdout",
     "output_type": "stream",
     "text": [
      "             precision    recall  f1-score   support\n",
      "\n",
      "          0       0.78      0.92      0.84       424\n",
      "          1       0.84      0.62      0.71       290\n",
      "\n",
      "avg / total       0.80      0.80      0.79       714\n",
      "\n"
     ]
    }
   ],
   "source": [
    "print classification_report(y, predictions)"
   ]
  },
  {
   "cell_type": "code",
   "execution_count": 71,
   "metadata": {
    "collapsed": false
   },
   "outputs": [
    {
     "data": {
      "text/plain": [
       "<matplotlib.axes._subplots.AxesSubplot at 0x11be31d50>"
      ]
     },
     "execution_count": 71,
     "metadata": {},
     "output_type": "execute_result"
    },
    {
     "data": {
      "image/png": "[encoded data removed]",
      "text/plain": [
       "<matplotlib.figure.Figure at 0x11be31090>"
      ]
     },
     "metadata": {},
     "output_type": "display_data"
    }
   ],
   "source": [
    "sns.heatmap(confusion_matrix(y, predictions), annot=True)"
   ]
  },
  {
   "cell_type": "markdown",
   "metadata": {},
   "source": [
    "# KBest\n",
    "#finally lets look at having KBest decide our variables"
   ]
  },
  {
   "cell_type": "code",
   "execution_count": 72,
   "metadata": {
    "collapsed": false
   },
   "outputs": [
    {
     "data": {
      "text/plain": [
       "((428, 14), (428,), (286, 14), (286,))"
      ]
     },
     "execution_count": 72,
     "metadata": {},
     "output_type": "execute_result"
    }
   ],
   "source": [
    "#checking to make sure the training and testing datashapes have not been corruped.\n",
    "x_train.shape,  y_train.shape, x_test.shape, y_test.shape"
   ]
  },
  {
   "cell_type": "code",
   "execution_count": 73,
   "metadata": {
    "collapsed": false
   },
   "outputs": [
    {
     "name": "stdout",
     "output_type": "stream",
     "text": [
      "SelectKBest(k=5, score_func=<function f_classif at 0x1176f49b0>)\n",
      "[[ 13.       0.       0.       1.       1.    ]\n",
      " [  8.05     0.       1.       1.       1.    ]\n",
      " [ 77.9583   1.       0.       0.       0.    ]\n",
      " ..., \n",
      " [ 26.25     0.       0.       1.       1.    ]\n",
      " [  9.8458   0.       1.       1.       1.    ]\n",
      " [ 31.3875   0.       1.       1.       1.    ]]\n"
     ]
    },
    {
     "name": "stderr",
     "output_type": "stream",
     "text": [
      "//anaconda/lib/python2.7/site-packages/sklearn/feature_selection/univariate_selection.py:113: UserWarning: Features [12] are constant.\n",
      "  UserWarning)\n"
     ]
    }
   ],
   "source": [
    "#now to try Kbest on ALL variables \n",
    "kbest = SelectKBest(k=5)\n",
    "print kbest\n",
    "results_of_kbest5 = kbest.fit_transform(x_train, y_train)\n",
    "print results_of_kbest5"
   ]
  },
  {
   "cell_type": "code",
   "execution_count": 74,
   "metadata": {
    "collapsed": false
   },
   "outputs": [
    {
     "name": "stdout",
     "output_type": "stream",
     "text": [
      "[  9.24409420e-02   9.69587551e-03   5.73640028e+00   3.65632507e+01\n",
      "   5.30281014e+01   9.79544417e-01   5.24056455e+01   1.48369295e+01\n",
      "   1.67335888e+00   7.10764734e+00   1.78197694e-01   1.61899521e+02\n",
      "              nan   6.56432153e+01]\n",
      "(428, 5)\n"
     ]
    }
   ],
   "source": [
    "print kbest.scores_\n",
    "print results_of_kbest5.shape"
   ]
  },
  {
   "cell_type": "code",
   "execution_count": 75,
   "metadata": {
    "collapsed": false
   },
   "outputs": [
    {
     "data": {
      "text/plain": [
       "0.76869158878504673"
      ]
     },
     "execution_count": 75,
     "metadata": {},
     "output_type": "execute_result"
    }
   ],
   "source": [
    "model_for_kbest_5_columns = LogisticRegression()\n",
    "model_for_kbest_5_columns.fit(results_of_kbest5, y_train)\n",
    "model_for_kbest_5_columns.score(results_of_kbest5, y_train)"
   ]
  },
  {
   "cell_type": "code",
   "execution_count": 76,
   "metadata": {
    "collapsed": false
   },
   "outputs": [
    {
     "data": {
      "text/plain": [
       "0.79020979020979021"
      ]
     },
     "execution_count": 76,
     "metadata": {},
     "output_type": "execute_result"
    }
   ],
   "source": [
    "#running the test variables \n",
    "results_of_kbest5 = kbest.fit_transform(x_test, y_test)\n",
    "model_for_kbest_5_columns = LogisticRegression()\n",
    "model_for_kbest_5_columns.fit(results_of_kbest5, y_test)\n",
    "model_for_kbest_5_columns.score(results_of_kbest5, y_test)"
   ]
  },
  {
   "cell_type": "code",
   "execution_count": 77,
   "metadata": {
    "collapsed": false
   },
   "outputs": [
    {
     "data": {
      "text/plain": [
       "0.77731092436974791"
      ]
     },
     "execution_count": 77,
     "metadata": {},
     "output_type": "execute_result"
    }
   ],
   "source": [
    "#running all the variables through\n",
    "results_of_kbest5 = kbest.fit_transform(X, y)\n",
    "model_for_kbest_5_columns = LogisticRegression()\n",
    "model_for_kbest_5_columns.fit(results_of_kbest5, y)\n",
    "model_for_kbest_5_columns.score(results_of_kbest5, y)"
   ]
  },
  {
   "cell_type": "code",
   "execution_count": 78,
   "metadata": {
    "collapsed": true
   },
   "outputs": [],
   "source": [
    "#it appears the training model was not overfit"
   ]
  },
  {
   "cell_type": "code",
   "execution_count": 79,
   "metadata": {
    "collapsed": true
   },
   "outputs": [],
   "source": [
    "\n",
    "\n",
    "\n",
    "Y_predKBest = model_for_kbest_5_columns.predict(results_of_kbest5)"
   ]
  },
  {
   "cell_type": "code",
   "execution_count": 80,
   "metadata": {
    "collapsed": false
   },
   "outputs": [
    {
     "name": "stdout",
     "output_type": "stream",
     "text": [
      "                  Predicted Survived  Predicted Did Not Survived\n",
      "Survived                         355                          69\n",
      "Did not survived                  90                         200\n"
     ]
    }
   ],
   "source": [
    "conmat3 = np.array(confusion_matrix(y, Y_predKBest))\n",
    "\n",
    "confusion = pd.DataFrame(conmat3, index=['Survived', 'Did not survived'],\n",
    "                         columns=['Predicted Survived', 'Predicted Did Not Survived'])\n",
    "\n",
    "print(confusion)\n",
    "TP = confusion.ix['Did not survived', 'Predicted Did Not Survived']\n",
    "FP = confusion.ix['Survived', 'Predicted Did Not Survived']\n",
    "TN = confusion.ix['Survived', 'Predicted Survived']\n",
    "FN = confusion.ix['Did not survived', 'Predicted Survived']"
   ]
  },
  {
   "cell_type": "code",
   "execution_count": 81,
   "metadata": {
    "collapsed": false
   },
   "outputs": [
    {
     "name": "stdout",
     "output_type": "stream",
     "text": [
      "             precision    recall  f1-score   support\n",
      "\n",
      "          0       0.80      0.84      0.82       424\n",
      "          1       0.74      0.69      0.72       290\n",
      "\n",
      "avg / total       0.78      0.78      0.78       714\n",
      "\n"
     ]
    }
   ],
   "source": [
    "cls_rep = classification_report(y, Y_predKBest)\n",
    "print(cls_rep)"
   ]
  },
  {
   "cell_type": "markdown",
   "metadata": {},
   "source": [
    "#My written report is my blog\n",
    "http://project05-mlt.blogspot.com"
   ]
  },
  {
   "cell_type": "code",
   "execution_count": null,
   "metadata": {
    "collapsed": true
   },
   "outputs": [],
   "source": []
  }
 ],
 "metadata": {
  "anaconda-cloud": {},
  "kernelspec": {
   "display_name": "Python [Root]",
   "language": "python",
   "name": "Python [Root]"
  },
  "language_info": {
   "codemirror_mode": {
    "name": "ipython",
    "version": 2
   },
   "file_extension": ".py",
   "mimetype": "text/x-python",
   "name": "python",
   "nbconvert_exporter": "python",
   "pygments_lexer": "ipython2",
   "version": "2.7.12"
  }
 },
 "nbformat": 4,
 "nbformat_minor": 0
}
